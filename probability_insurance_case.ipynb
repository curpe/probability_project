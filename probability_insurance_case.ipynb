{
 "cells": [
  {
   "cell_type": "markdown",
   "id": "bae50a3a",
   "metadata": {},
   "source": [
    "### Final Project Probability - Abhi Abduh Wave 12"
   ]
  },
  {
   "cell_type": "code",
   "execution_count": 8,
   "id": "a1ae471e",
   "metadata": {},
   "outputs": [],
   "source": [
    "#import tools yang dibutuhkan\n",
    "import pandas as pd\n",
    "import numpy as np\n",
    "import itertools \n",
    "import statistics\n",
    "from scipy.stats import binom\n",
    "import math\n",
    "from scipy.stats import norm\n",
    "from scipy.stats import stats\n",
    "from scipy.stats import f\n",
    "\n",
    "# kita menggunakan visualisasi agar mudah\n",
    "import seaborn as sns\n",
    "import matplotlib.pyplot as plt\n",
    "import matplotlib.patches as mpatches"
   ]
  },
  {
   "cell_type": "code",
   "execution_count": 7,
   "id": "fd88e018",
   "metadata": {},
   "outputs": [
    {
     "data": {
      "text/html": [
       "<div>\n",
       "<style scoped>\n",
       "    .dataframe tbody tr th:only-of-type {\n",
       "        vertical-align: middle;\n",
       "    }\n",
       "\n",
       "    .dataframe tbody tr th {\n",
       "        vertical-align: top;\n",
       "    }\n",
       "\n",
       "    .dataframe thead th {\n",
       "        text-align: right;\n",
       "    }\n",
       "</style>\n",
       "<table border=\"1\" class=\"dataframe\">\n",
       "  <thead>\n",
       "    <tr style=\"text-align: right;\">\n",
       "      <th></th>\n",
       "      <th>age</th>\n",
       "      <th>sex</th>\n",
       "      <th>bmi</th>\n",
       "      <th>children</th>\n",
       "      <th>smoker</th>\n",
       "      <th>region</th>\n",
       "      <th>charges</th>\n",
       "    </tr>\n",
       "  </thead>\n",
       "  <tbody>\n",
       "    <tr>\n",
       "      <th>0</th>\n",
       "      <td>19</td>\n",
       "      <td>female</td>\n",
       "      <td>27.900</td>\n",
       "      <td>0</td>\n",
       "      <td>yes</td>\n",
       "      <td>southwest</td>\n",
       "      <td>16884.92400</td>\n",
       "    </tr>\n",
       "    <tr>\n",
       "      <th>1</th>\n",
       "      <td>18</td>\n",
       "      <td>male</td>\n",
       "      <td>33.770</td>\n",
       "      <td>1</td>\n",
       "      <td>no</td>\n",
       "      <td>southeast</td>\n",
       "      <td>1725.55230</td>\n",
       "    </tr>\n",
       "    <tr>\n",
       "      <th>2</th>\n",
       "      <td>28</td>\n",
       "      <td>male</td>\n",
       "      <td>33.000</td>\n",
       "      <td>3</td>\n",
       "      <td>no</td>\n",
       "      <td>southeast</td>\n",
       "      <td>4449.46200</td>\n",
       "    </tr>\n",
       "    <tr>\n",
       "      <th>3</th>\n",
       "      <td>33</td>\n",
       "      <td>male</td>\n",
       "      <td>22.705</td>\n",
       "      <td>0</td>\n",
       "      <td>no</td>\n",
       "      <td>northwest</td>\n",
       "      <td>21984.47061</td>\n",
       "    </tr>\n",
       "    <tr>\n",
       "      <th>4</th>\n",
       "      <td>32</td>\n",
       "      <td>male</td>\n",
       "      <td>28.880</td>\n",
       "      <td>0</td>\n",
       "      <td>no</td>\n",
       "      <td>northwest</td>\n",
       "      <td>3866.85520</td>\n",
       "    </tr>\n",
       "    <tr>\n",
       "      <th>...</th>\n",
       "      <td>...</td>\n",
       "      <td>...</td>\n",
       "      <td>...</td>\n",
       "      <td>...</td>\n",
       "      <td>...</td>\n",
       "      <td>...</td>\n",
       "      <td>...</td>\n",
       "    </tr>\n",
       "    <tr>\n",
       "      <th>1333</th>\n",
       "      <td>50</td>\n",
       "      <td>male</td>\n",
       "      <td>30.970</td>\n",
       "      <td>3</td>\n",
       "      <td>no</td>\n",
       "      <td>northwest</td>\n",
       "      <td>10600.54830</td>\n",
       "    </tr>\n",
       "    <tr>\n",
       "      <th>1334</th>\n",
       "      <td>18</td>\n",
       "      <td>female</td>\n",
       "      <td>31.920</td>\n",
       "      <td>0</td>\n",
       "      <td>no</td>\n",
       "      <td>northeast</td>\n",
       "      <td>2205.98080</td>\n",
       "    </tr>\n",
       "    <tr>\n",
       "      <th>1335</th>\n",
       "      <td>18</td>\n",
       "      <td>female</td>\n",
       "      <td>36.850</td>\n",
       "      <td>0</td>\n",
       "      <td>no</td>\n",
       "      <td>southeast</td>\n",
       "      <td>1629.83350</td>\n",
       "    </tr>\n",
       "    <tr>\n",
       "      <th>1336</th>\n",
       "      <td>21</td>\n",
       "      <td>female</td>\n",
       "      <td>25.800</td>\n",
       "      <td>0</td>\n",
       "      <td>no</td>\n",
       "      <td>southwest</td>\n",
       "      <td>2007.94500</td>\n",
       "    </tr>\n",
       "    <tr>\n",
       "      <th>1337</th>\n",
       "      <td>61</td>\n",
       "      <td>female</td>\n",
       "      <td>29.070</td>\n",
       "      <td>0</td>\n",
       "      <td>yes</td>\n",
       "      <td>northwest</td>\n",
       "      <td>29141.36030</td>\n",
       "    </tr>\n",
       "  </tbody>\n",
       "</table>\n",
       "<p>1338 rows × 7 columns</p>\n",
       "</div>"
      ],
      "text/plain": [
       "      age     sex     bmi  children smoker     region      charges\n",
       "0      19  female  27.900         0    yes  southwest  16884.92400\n",
       "1      18    male  33.770         1     no  southeast   1725.55230\n",
       "2      28    male  33.000         3     no  southeast   4449.46200\n",
       "3      33    male  22.705         0     no  northwest  21984.47061\n",
       "4      32    male  28.880         0     no  northwest   3866.85520\n",
       "...   ...     ...     ...       ...    ...        ...          ...\n",
       "1333   50    male  30.970         3     no  northwest  10600.54830\n",
       "1334   18  female  31.920         0     no  northeast   2205.98080\n",
       "1335   18  female  36.850         0     no  southeast   1629.83350\n",
       "1336   21  female  25.800         0     no  southwest   2007.94500\n",
       "1337   61  female  29.070         0    yes  northwest  29141.36030\n",
       "\n",
       "[1338 rows x 7 columns]"
      ]
     },
     "execution_count": 7,
     "metadata": {},
     "output_type": "execute_result"
    }
   ],
   "source": [
    "insurance = pd.read_csv(\"insurance.csv\")\n",
    "insurance"
   ]
  },
  {
   "cell_type": "code",
   "execution_count": 8,
   "id": "afa8dd83",
   "metadata": {},
   "outputs": [
    {
     "name": "stdout",
     "output_type": "stream",
     "text": [
      "<class 'pandas.core.frame.DataFrame'>\n",
      "RangeIndex: 1338 entries, 0 to 1337\n",
      "Data columns (total 7 columns):\n",
      " #   Column    Non-Null Count  Dtype  \n",
      "---  ------    --------------  -----  \n",
      " 0   age       1338 non-null   int64  \n",
      " 1   sex       1338 non-null   object \n",
      " 2   bmi       1338 non-null   float64\n",
      " 3   children  1338 non-null   int64  \n",
      " 4   smoker    1338 non-null   object \n",
      " 5   region    1338 non-null   object \n",
      " 6   charges   1338 non-null   float64\n",
      "dtypes: float64(2), int64(2), object(3)\n",
      "memory usage: 73.3+ KB\n"
     ]
    }
   ],
   "source": [
    "# Kita mencari info-info terkait data set yang kita pilih\n",
    "\n",
    "insurance.info()"
   ]
  },
  {
   "cell_type": "code",
   "execution_count": 9,
   "id": "acea10ef",
   "metadata": {},
   "outputs": [
    {
     "data": {
      "text/html": [
       "<div>\n",
       "<style scoped>\n",
       "    .dataframe tbody tr th:only-of-type {\n",
       "        vertical-align: middle;\n",
       "    }\n",
       "\n",
       "    .dataframe tbody tr th {\n",
       "        vertical-align: top;\n",
       "    }\n",
       "\n",
       "    .dataframe thead th {\n",
       "        text-align: right;\n",
       "    }\n",
       "</style>\n",
       "<table border=\"1\" class=\"dataframe\">\n",
       "  <thead>\n",
       "    <tr style=\"text-align: right;\">\n",
       "      <th></th>\n",
       "      <th>age</th>\n",
       "      <th>bmi</th>\n",
       "      <th>children</th>\n",
       "      <th>charges</th>\n",
       "    </tr>\n",
       "  </thead>\n",
       "  <tbody>\n",
       "    <tr>\n",
       "      <th>count</th>\n",
       "      <td>1338.000000</td>\n",
       "      <td>1338.000000</td>\n",
       "      <td>1338.000000</td>\n",
       "      <td>1338.000000</td>\n",
       "    </tr>\n",
       "    <tr>\n",
       "      <th>mean</th>\n",
       "      <td>39.207025</td>\n",
       "      <td>30.663397</td>\n",
       "      <td>1.094918</td>\n",
       "      <td>13270.422265</td>\n",
       "    </tr>\n",
       "    <tr>\n",
       "      <th>std</th>\n",
       "      <td>14.049960</td>\n",
       "      <td>6.098187</td>\n",
       "      <td>1.205493</td>\n",
       "      <td>12110.011237</td>\n",
       "    </tr>\n",
       "    <tr>\n",
       "      <th>min</th>\n",
       "      <td>18.000000</td>\n",
       "      <td>15.960000</td>\n",
       "      <td>0.000000</td>\n",
       "      <td>1121.873900</td>\n",
       "    </tr>\n",
       "    <tr>\n",
       "      <th>25%</th>\n",
       "      <td>27.000000</td>\n",
       "      <td>26.296250</td>\n",
       "      <td>0.000000</td>\n",
       "      <td>4740.287150</td>\n",
       "    </tr>\n",
       "    <tr>\n",
       "      <th>50%</th>\n",
       "      <td>39.000000</td>\n",
       "      <td>30.400000</td>\n",
       "      <td>1.000000</td>\n",
       "      <td>9382.033000</td>\n",
       "    </tr>\n",
       "    <tr>\n",
       "      <th>75%</th>\n",
       "      <td>51.000000</td>\n",
       "      <td>34.693750</td>\n",
       "      <td>2.000000</td>\n",
       "      <td>16639.912515</td>\n",
       "    </tr>\n",
       "    <tr>\n",
       "      <th>max</th>\n",
       "      <td>64.000000</td>\n",
       "      <td>53.130000</td>\n",
       "      <td>5.000000</td>\n",
       "      <td>63770.428010</td>\n",
       "    </tr>\n",
       "  </tbody>\n",
       "</table>\n",
       "</div>"
      ],
      "text/plain": [
       "               age          bmi     children       charges\n",
       "count  1338.000000  1338.000000  1338.000000   1338.000000\n",
       "mean     39.207025    30.663397     1.094918  13270.422265\n",
       "std      14.049960     6.098187     1.205493  12110.011237\n",
       "min      18.000000    15.960000     0.000000   1121.873900\n",
       "25%      27.000000    26.296250     0.000000   4740.287150\n",
       "50%      39.000000    30.400000     1.000000   9382.033000\n",
       "75%      51.000000    34.693750     2.000000  16639.912515\n",
       "max      64.000000    53.130000     5.000000  63770.428010"
      ]
     },
     "execution_count": 9,
     "metadata": {},
     "output_type": "execute_result"
    }
   ],
   "source": [
    "# Mengetahui berapa Quantile / deskripsi numerik dari data insurance.csv\n",
    "\n",
    "insurance.describe()"
   ]
  },
  {
   "cell_type": "code",
   "execution_count": 10,
   "id": "9bd86c1f",
   "metadata": {},
   "outputs": [
    {
     "name": "stderr",
     "output_type": "stream",
     "text": [
      "/Users/curlyhype/opt/anaconda3/lib/python3.9/site-packages/seaborn/distributions.py:2619: FutureWarning: `distplot` is a deprecated function and will be removed in a future version. Please adapt your code to use either `displot` (a figure-level function with similar flexibility) or `histplot` (an axes-level function for histograms).\n",
      "  warnings.warn(msg, FutureWarning)\n",
      "/Users/curlyhype/opt/anaconda3/lib/python3.9/site-packages/seaborn/distributions.py:2619: FutureWarning: `distplot` is a deprecated function and will be removed in a future version. Please adapt your code to use either `displot` (a figure-level function with similar flexibility) or `histplot` (an axes-level function for histograms).\n",
      "  warnings.warn(msg, FutureWarning)\n",
      "/Users/curlyhype/opt/anaconda3/lib/python3.9/site-packages/seaborn/distributions.py:2619: FutureWarning: `distplot` is a deprecated function and will be removed in a future version. Please adapt your code to use either `displot` (a figure-level function with similar flexibility) or `histplot` (an axes-level function for histograms).\n",
      "  warnings.warn(msg, FutureWarning)\n",
      "/Users/curlyhype/opt/anaconda3/lib/python3.9/site-packages/seaborn/distributions.py:2619: FutureWarning: `distplot` is a deprecated function and will be removed in a future version. Please adapt your code to use either `displot` (a figure-level function with similar flexibility) or `histplot` (an axes-level function for histograms).\n",
      "  warnings.warn(msg, FutureWarning)\n"
     ]
    },
    {
     "data": {
      "image/png": "[encoded data removed]",
      "text/plain": [
       "<Figure size 1296x720 with 4 Axes>"
      ]
     },
     "metadata": {
      "needs_background": "light"
     },
     "output_type": "display_data"
    }
   ],
   "source": [
    "# distribusi peluang ditiap-tiap region \n",
    "\n",
    "plt.figure(figsize=(18,10))\n",
    "\n",
    "plt.subplot(2,2,1)\n",
    "southwest = insurance[insurance[\"region\"] == \"southwest\"][[\"charges\"]]\n",
    "sns.distplot(southwest[\"charges\"], bins = 20, hist = True, kde = True)\n",
    "plt.title(\"southwest charges\")\n",
    "\n",
    "plt.subplot(2,2,2)\n",
    "southeast = insurance[insurance[\"region\"] == \"southeast\"][[\"charges\"]]\n",
    "sns.distplot(southeast[\"charges\"], bins = 20, hist = True, kde = True)\n",
    "plt.title(\"southeast charges\")\n",
    "\n",
    "plt.subplot(2,2,3)\n",
    "northwest = insurance[insurance[\"region\"] == \"northwest\"][[\"charges\"]]\n",
    "sns.distplot(northwest[\"charges\"], bins = 20, hist = True, kde = True)\n",
    "plt.title(\"northwest charges\")\n",
    "\n",
    "plt.subplot(2,2,4)\n",
    "northeast = insurance[insurance[\"region\"] == \"northeast\"][[\"charges\"]]\n",
    "sns.distplot(northeast[\"charges\"], bins = 20, hist = True, kde = True)\n",
    "plt.title(\"northeast charges\")\n",
    "\n",
    "plt.show()"
   ]
  },
  {
   "cell_type": "code",
   "execution_count": 11,
   "id": "dc3d4acc",
   "metadata": {},
   "outputs": [],
   "source": [
    "# Untuk mempermudah Fasilitator ini adalah fungsi untuk melihat distribusi\n",
    "\n",
    "def scatter_chart(title, xlabel, ylabel, x, y):\n",
    "  plt.title(title)\n",
    "  plt.xlabel(xlabel)\n",
    "  plt.ylabel(ylabel)\n",
    "  plt.scatter(x = x, y = y, color = \"y\", data = insurance)\n",
    "  plt.show()"
   ]
  },
  {
   "cell_type": "code",
   "execution_count": 12,
   "id": "79b28470",
   "metadata": {},
   "outputs": [
    {
     "data": {
      "image/png": "[encoded data removed]",
      "text/plain": [
       "<Figure size 432x288 with 1 Axes>"
      ]
     },
     "metadata": {
      "needs_background": "light"
     },
     "output_type": "display_data"
    },
    {
     "data": {
      "image/png": "[encoded data removed]",
      "text/plain": [
       "<Figure size 432x288 with 1 Axes>"
      ]
     },
     "metadata": {
      "needs_background": "light"
     },
     "output_type": "display_data"
    },
    {
     "data": {
      "image/png": "[encoded data removed]",
      "text/plain": [
       "<Figure size 432x288 with 1 Axes>"
      ]
     },
     "metadata": {
      "needs_background": "light"
     },
     "output_type": "display_data"
    },
    {
     "data": {
      "image/png": "[encoded data removed]",
      "text/plain": [
       "<Figure size 432x288 with 1 Axes>"
      ]
     },
     "metadata": {
      "needs_background": "light"
     },
     "output_type": "display_data"
    },
    {
     "data": {
      "image/png": "[encoded data removed]",
      "text/plain": [
       "<Figure size 432x288 with 1 Axes>"
      ]
     },
     "metadata": {
      "needs_background": "light"
     },
     "output_type": "display_data"
    },
    {
     "data": {
      "image/png": "[encoded data removed]",
      "text/plain": [
       "<Figure size 432x288 with 1 Axes>"
      ]
     },
     "metadata": {
      "needs_background": "light"
     },
     "output_type": "display_data"
    }
   ],
   "source": [
    "# Age vs BMI\n",
    "scatter_chart(\"Age vs BMI\", \"Age\", \"BMI\", \"age\", \"bmi\")\n",
    "\n",
    "# Age vs Children \n",
    "scatter_chart(\"Age vs Children\", \"Age\", \"Children\", \"age\", \"children\")\n",
    "\n",
    "# Age vs Charges\n",
    "scatter_chart(\"Age vs Charges\", \"Age\", \"Charges\", \"age\", \"charges\")\n",
    "\n",
    "# BMI vs Children \n",
    "scatter_chart(\"BMI vs Children\", \"BMI\", \"Children\", \"bmi\", \"children\")\n",
    "\n",
    "# Children vs Charges \n",
    "scatter_chart(\"Children vs Charges\", \"Children\", \"Charges\", \"children\", \"charges\")\n",
    "\n",
    "# BMI vs Charges \n",
    "scatter_chart(\"BMI vs Charges\", \"BMI\", \"Charges\", \"bmi\", \"charges\")"
   ]
  },
  {
   "cell_type": "markdown",
   "id": "b876f7fc",
   "metadata": {},
   "source": [
    "## **1. Deskriptif Statistik**\n",
    "\n",
    "* Kita awali proses analisa ini dengan hal yang paling dasar, yakni merangkum karakter-karakter berdasarkan data seperti mencari rata-rata & persebaran data."
   ]
  },
  {
   "cell_type": "markdown",
   "id": "04d0c13b",
   "metadata": {},
   "source": [
    "**a. Berapa rata-rata umur dari data insurance.csv?**"
   ]
  },
  {
   "cell_type": "code",
   "execution_count": 13,
   "id": "afc6c3a3",
   "metadata": {},
   "outputs": [
    {
     "name": "stdout",
     "output_type": "stream",
     "text": [
      "rata-rata umur dari dataset adalah 39.21\n"
     ]
    }
   ],
   "source": [
    "avg_age = insurance[\"age\"].mean()\n",
    "print(f\"rata-rata umur dari dataset adalah {avg_age:.2f}\")"
   ]
  },
  {
   "cell_type": "markdown",
   "id": "fe639c71",
   "metadata": {},
   "source": [
    "Bahwa rata-rata umur dari dataset adalah **%39.21**"
   ]
  },
  {
   "cell_type": "markdown",
   "id": "35ef2d14",
   "metadata": {},
   "source": [
    "**b. Apakah rata-rata umur perokok perempuan dan laki-laki sama secara proporsi?**"
   ]
  },
  {
   "cell_type": "code",
   "execution_count": 14,
   "id": "e8ea2dfe",
   "metadata": {},
   "outputs": [
    {
     "data": {
      "text/html": [
       "<div>\n",
       "<style scoped>\n",
       "    .dataframe tbody tr th:only-of-type {\n",
       "        vertical-align: middle;\n",
       "    }\n",
       "\n",
       "    .dataframe tbody tr th {\n",
       "        vertical-align: top;\n",
       "    }\n",
       "\n",
       "    .dataframe thead th {\n",
       "        text-align: right;\n",
       "    }\n",
       "</style>\n",
       "<table border=\"1\" class=\"dataframe\">\n",
       "  <thead>\n",
       "    <tr style=\"text-align: right;\">\n",
       "      <th></th>\n",
       "      <th></th>\n",
       "      <th>age</th>\n",
       "      <th>bmi</th>\n",
       "      <th>children</th>\n",
       "      <th>charges</th>\n",
       "    </tr>\n",
       "    <tr>\n",
       "      <th>sex</th>\n",
       "      <th>smoker</th>\n",
       "      <th></th>\n",
       "      <th></th>\n",
       "      <th></th>\n",
       "      <th></th>\n",
       "    </tr>\n",
       "  </thead>\n",
       "  <tbody>\n",
       "    <tr>\n",
       "      <th rowspan=\"2\" valign=\"top\">female</th>\n",
       "      <th>no</th>\n",
       "      <td>39.691042</td>\n",
       "      <td>30.539525</td>\n",
       "      <td>1.087751</td>\n",
       "      <td>8762.297300</td>\n",
       "    </tr>\n",
       "    <tr>\n",
       "      <th>yes</th>\n",
       "      <td>38.608696</td>\n",
       "      <td>29.608261</td>\n",
       "      <td>1.008696</td>\n",
       "      <td>30678.996276</td>\n",
       "    </tr>\n",
       "    <tr>\n",
       "      <th rowspan=\"2\" valign=\"top\">male</th>\n",
       "      <th>no</th>\n",
       "      <td>39.061896</td>\n",
       "      <td>30.770580</td>\n",
       "      <td>1.092843</td>\n",
       "      <td>8087.204731</td>\n",
       "    </tr>\n",
       "    <tr>\n",
       "      <th>yes</th>\n",
       "      <td>38.446541</td>\n",
       "      <td>31.504182</td>\n",
       "      <td>1.188679</td>\n",
       "      <td>33042.005975</td>\n",
       "    </tr>\n",
       "  </tbody>\n",
       "</table>\n",
       "</div>"
      ],
      "text/plain": [
       "                     age        bmi  children       charges\n",
       "sex    smoker                                              \n",
       "female no      39.691042  30.539525  1.087751   8762.297300\n",
       "       yes     38.608696  29.608261  1.008696  30678.996276\n",
       "male   no      39.061896  30.770580  1.092843   8087.204731\n",
       "       yes     38.446541  31.504182  1.188679  33042.005975"
      ]
     },
     "execution_count": 14,
     "metadata": {},
     "output_type": "execute_result"
    }
   ],
   "source": [
    "# Kita membutuhkan data jumlah perokok perempuan dan perokok laki-laki\n",
    "insurance.groupby([\"sex\",\"smoker\"]).mean()"
   ]
  },
  {
   "cell_type": "code",
   "execution_count": 15,
   "id": "328f21ac",
   "metadata": {},
   "outputs": [
    {
     "data": {
      "text/html": [
       "<div>\n",
       "<style scoped>\n",
       "    .dataframe tbody tr th:only-of-type {\n",
       "        vertical-align: middle;\n",
       "    }\n",
       "\n",
       "    .dataframe tbody tr th {\n",
       "        vertical-align: top;\n",
       "    }\n",
       "\n",
       "    .dataframe thead th {\n",
       "        text-align: right;\n",
       "    }\n",
       "</style>\n",
       "<table border=\"1\" class=\"dataframe\">\n",
       "  <thead>\n",
       "    <tr style=\"text-align: right;\">\n",
       "      <th></th>\n",
       "      <th>age</th>\n",
       "      <th>sex</th>\n",
       "      <th>bmi</th>\n",
       "      <th>children</th>\n",
       "      <th>smoker</th>\n",
       "      <th>region</th>\n",
       "      <th>charges</th>\n",
       "    </tr>\n",
       "  </thead>\n",
       "  <tbody>\n",
       "    <tr>\n",
       "      <th>0</th>\n",
       "      <td>19</td>\n",
       "      <td>female</td>\n",
       "      <td>27.900</td>\n",
       "      <td>0</td>\n",
       "      <td>yes</td>\n",
       "      <td>southwest</td>\n",
       "      <td>16884.92400</td>\n",
       "    </tr>\n",
       "    <tr>\n",
       "      <th>11</th>\n",
       "      <td>62</td>\n",
       "      <td>female</td>\n",
       "      <td>26.290</td>\n",
       "      <td>0</td>\n",
       "      <td>yes</td>\n",
       "      <td>southeast</td>\n",
       "      <td>27808.72510</td>\n",
       "    </tr>\n",
       "    <tr>\n",
       "      <th>14</th>\n",
       "      <td>27</td>\n",
       "      <td>male</td>\n",
       "      <td>42.130</td>\n",
       "      <td>0</td>\n",
       "      <td>yes</td>\n",
       "      <td>southeast</td>\n",
       "      <td>39611.75770</td>\n",
       "    </tr>\n",
       "    <tr>\n",
       "      <th>19</th>\n",
       "      <td>30</td>\n",
       "      <td>male</td>\n",
       "      <td>35.300</td>\n",
       "      <td>0</td>\n",
       "      <td>yes</td>\n",
       "      <td>southwest</td>\n",
       "      <td>36837.46700</td>\n",
       "    </tr>\n",
       "    <tr>\n",
       "      <th>23</th>\n",
       "      <td>34</td>\n",
       "      <td>female</td>\n",
       "      <td>31.920</td>\n",
       "      <td>1</td>\n",
       "      <td>yes</td>\n",
       "      <td>northeast</td>\n",
       "      <td>37701.87680</td>\n",
       "    </tr>\n",
       "    <tr>\n",
       "      <th>...</th>\n",
       "      <td>...</td>\n",
       "      <td>...</td>\n",
       "      <td>...</td>\n",
       "      <td>...</td>\n",
       "      <td>...</td>\n",
       "      <td>...</td>\n",
       "      <td>...</td>\n",
       "    </tr>\n",
       "    <tr>\n",
       "      <th>1313</th>\n",
       "      <td>19</td>\n",
       "      <td>female</td>\n",
       "      <td>34.700</td>\n",
       "      <td>2</td>\n",
       "      <td>yes</td>\n",
       "      <td>southwest</td>\n",
       "      <td>36397.57600</td>\n",
       "    </tr>\n",
       "    <tr>\n",
       "      <th>1314</th>\n",
       "      <td>30</td>\n",
       "      <td>female</td>\n",
       "      <td>23.655</td>\n",
       "      <td>3</td>\n",
       "      <td>yes</td>\n",
       "      <td>northwest</td>\n",
       "      <td>18765.87545</td>\n",
       "    </tr>\n",
       "    <tr>\n",
       "      <th>1321</th>\n",
       "      <td>62</td>\n",
       "      <td>male</td>\n",
       "      <td>26.695</td>\n",
       "      <td>0</td>\n",
       "      <td>yes</td>\n",
       "      <td>northeast</td>\n",
       "      <td>28101.33305</td>\n",
       "    </tr>\n",
       "    <tr>\n",
       "      <th>1323</th>\n",
       "      <td>42</td>\n",
       "      <td>female</td>\n",
       "      <td>40.370</td>\n",
       "      <td>2</td>\n",
       "      <td>yes</td>\n",
       "      <td>southeast</td>\n",
       "      <td>43896.37630</td>\n",
       "    </tr>\n",
       "    <tr>\n",
       "      <th>1337</th>\n",
       "      <td>61</td>\n",
       "      <td>female</td>\n",
       "      <td>29.070</td>\n",
       "      <td>0</td>\n",
       "      <td>yes</td>\n",
       "      <td>northwest</td>\n",
       "      <td>29141.36030</td>\n",
       "    </tr>\n",
       "  </tbody>\n",
       "</table>\n",
       "<p>274 rows × 7 columns</p>\n",
       "</div>"
      ],
      "text/plain": [
       "      age     sex     bmi  children smoker     region      charges\n",
       "0      19  female  27.900         0    yes  southwest  16884.92400\n",
       "11     62  female  26.290         0    yes  southeast  27808.72510\n",
       "14     27    male  42.130         0    yes  southeast  39611.75770\n",
       "19     30    male  35.300         0    yes  southwest  36837.46700\n",
       "23     34  female  31.920         1    yes  northeast  37701.87680\n",
       "...   ...     ...     ...       ...    ...        ...          ...\n",
       "1313   19  female  34.700         2    yes  southwest  36397.57600\n",
       "1314   30  female  23.655         3    yes  northwest  18765.87545\n",
       "1321   62    male  26.695         0    yes  northeast  28101.33305\n",
       "1323   42  female  40.370         2    yes  southeast  43896.37630\n",
       "1337   61  female  29.070         0    yes  northwest  29141.36030\n",
       "\n",
       "[274 rows x 7 columns]"
      ]
     },
     "execution_count": 15,
     "metadata": {},
     "output_type": "execute_result"
    }
   ],
   "source": [
    "# filter data berdasarkan smoker\n",
    "smoker = insurance[insurance[\"smoker\"] == \"yes\"]\n",
    "smoker"
   ]
  },
  {
   "cell_type": "code",
   "execution_count": 16,
   "id": "b8fd2508",
   "metadata": {},
   "outputs": [
    {
     "data": {
      "text/html": [
       "<div>\n",
       "<style scoped>\n",
       "    .dataframe tbody tr th:only-of-type {\n",
       "        vertical-align: middle;\n",
       "    }\n",
       "\n",
       "    .dataframe tbody tr th {\n",
       "        vertical-align: top;\n",
       "    }\n",
       "\n",
       "    .dataframe thead th {\n",
       "        text-align: right;\n",
       "    }\n",
       "</style>\n",
       "<table border=\"1\" class=\"dataframe\">\n",
       "  <thead>\n",
       "    <tr style=\"text-align: right;\">\n",
       "      <th></th>\n",
       "      <th></th>\n",
       "      <th>age</th>\n",
       "    </tr>\n",
       "    <tr>\n",
       "      <th>sex</th>\n",
       "      <th>smoker</th>\n",
       "      <th></th>\n",
       "    </tr>\n",
       "  </thead>\n",
       "  <tbody>\n",
       "    <tr>\n",
       "      <th>female</th>\n",
       "      <th>yes</th>\n",
       "      <td>38.608696</td>\n",
       "    </tr>\n",
       "    <tr>\n",
       "      <th>male</th>\n",
       "      <th>yes</th>\n",
       "      <td>38.446541</td>\n",
       "    </tr>\n",
       "  </tbody>\n",
       "</table>\n",
       "</div>"
      ],
      "text/plain": [
       "                     age\n",
       "sex    smoker           \n",
       "female yes     38.608696\n",
       "male   yes     38.446541"
      ]
     },
     "execution_count": 16,
     "metadata": {},
     "output_type": "execute_result"
    }
   ],
   "source": [
    "# setelah pilihan smoker semua \"yes\", kita dapatkan jumlah berikut.\n",
    "# Dan inilah jawaban nya\n",
    "smoker[[\"sex\",\"age\",\"smoker\"]].groupby([\"sex\",\"smoker\"]).mean()"
   ]
  },
  {
   "cell_type": "markdown",
   "id": "b9f8410d",
   "metadata": {},
   "source": [
    "Bahwa rata-rata umur perokok perempuan jauh lebih besar dari pada laki-laki dengan selisih 0.2"
   ]
  },
  {
   "cell_type": "markdown",
   "id": "44b8fa8e",
   "metadata": {},
   "source": [
    "**c. Apakah variansi dari tagihan kesehatan perokok dan non perokok sama?**"
   ]
  },
  {
   "cell_type": "code",
   "execution_count": 17,
   "id": "4a197760",
   "metadata": {
    "scrolled": true
   },
   "outputs": [
    {
     "data": {
      "text/html": [
       "<div>\n",
       "<style scoped>\n",
       "    .dataframe tbody tr th:only-of-type {\n",
       "        vertical-align: middle;\n",
       "    }\n",
       "\n",
       "    .dataframe tbody tr th {\n",
       "        vertical-align: top;\n",
       "    }\n",
       "\n",
       "    .dataframe thead th {\n",
       "        text-align: right;\n",
       "    }\n",
       "</style>\n",
       "<table border=\"1\" class=\"dataframe\">\n",
       "  <thead>\n",
       "    <tr style=\"text-align: right;\">\n",
       "      <th></th>\n",
       "      <th>index</th>\n",
       "      <th>charges</th>\n",
       "    </tr>\n",
       "  </thead>\n",
       "  <tbody>\n",
       "    <tr>\n",
       "      <th>0</th>\n",
       "      <td>0</td>\n",
       "      <td>16884.92400</td>\n",
       "    </tr>\n",
       "    <tr>\n",
       "      <th>1</th>\n",
       "      <td>11</td>\n",
       "      <td>27808.72510</td>\n",
       "    </tr>\n",
       "    <tr>\n",
       "      <th>2</th>\n",
       "      <td>14</td>\n",
       "      <td>39611.75770</td>\n",
       "    </tr>\n",
       "    <tr>\n",
       "      <th>3</th>\n",
       "      <td>19</td>\n",
       "      <td>36837.46700</td>\n",
       "    </tr>\n",
       "    <tr>\n",
       "      <th>4</th>\n",
       "      <td>23</td>\n",
       "      <td>37701.87680</td>\n",
       "    </tr>\n",
       "    <tr>\n",
       "      <th>...</th>\n",
       "      <td>...</td>\n",
       "      <td>...</td>\n",
       "    </tr>\n",
       "    <tr>\n",
       "      <th>269</th>\n",
       "      <td>1313</td>\n",
       "      <td>36397.57600</td>\n",
       "    </tr>\n",
       "    <tr>\n",
       "      <th>270</th>\n",
       "      <td>1314</td>\n",
       "      <td>18765.87545</td>\n",
       "    </tr>\n",
       "    <tr>\n",
       "      <th>271</th>\n",
       "      <td>1321</td>\n",
       "      <td>28101.33305</td>\n",
       "    </tr>\n",
       "    <tr>\n",
       "      <th>272</th>\n",
       "      <td>1323</td>\n",
       "      <td>43896.37630</td>\n",
       "    </tr>\n",
       "    <tr>\n",
       "      <th>273</th>\n",
       "      <td>1337</td>\n",
       "      <td>29141.36030</td>\n",
       "    </tr>\n",
       "  </tbody>\n",
       "</table>\n",
       "<p>274 rows × 2 columns</p>\n",
       "</div>"
      ],
      "text/plain": [
       "     index      charges\n",
       "0        0  16884.92400\n",
       "1       11  27808.72510\n",
       "2       14  39611.75770\n",
       "3       19  36837.46700\n",
       "4       23  37701.87680\n",
       "..     ...          ...\n",
       "269   1313  36397.57600\n",
       "270   1314  18765.87545\n",
       "271   1321  28101.33305\n",
       "272   1323  43896.37630\n",
       "273   1337  29141.36030\n",
       "\n",
       "[274 rows x 2 columns]"
      ]
     },
     "execution_count": 17,
     "metadata": {},
     "output_type": "execute_result"
    }
   ],
   "source": [
    "# Data yang kita butuhkan adalah 1. Tagihan dari perokok, 2. Jumlah tagihan dari non-perokok\n",
    "#setelah itu \n",
    "\n",
    "#cari variansi tagihan perokok dengan membuat tabel\n",
    "tagihan_perokok = insurance[insurance[\"smoker\"]==\"yes\"][[\"charges\"]].reset_index()\n",
    "tagihan_perokok\n"
   ]
  },
  {
   "cell_type": "code",
   "execution_count": 18,
   "id": "49a98799",
   "metadata": {},
   "outputs": [
    {
     "data": {
      "text/html": [
       "<div>\n",
       "<style scoped>\n",
       "    .dataframe tbody tr th:only-of-type {\n",
       "        vertical-align: middle;\n",
       "    }\n",
       "\n",
       "    .dataframe tbody tr th {\n",
       "        vertical-align: top;\n",
       "    }\n",
       "\n",
       "    .dataframe thead th {\n",
       "        text-align: right;\n",
       "    }\n",
       "</style>\n",
       "<table border=\"1\" class=\"dataframe\">\n",
       "  <thead>\n",
       "    <tr style=\"text-align: right;\">\n",
       "      <th></th>\n",
       "      <th>index</th>\n",
       "      <th>charges</th>\n",
       "    </tr>\n",
       "  </thead>\n",
       "  <tbody>\n",
       "    <tr>\n",
       "      <th>0</th>\n",
       "      <td>1</td>\n",
       "      <td>1725.55230</td>\n",
       "    </tr>\n",
       "    <tr>\n",
       "      <th>1</th>\n",
       "      <td>2</td>\n",
       "      <td>4449.46200</td>\n",
       "    </tr>\n",
       "    <tr>\n",
       "      <th>2</th>\n",
       "      <td>3</td>\n",
       "      <td>21984.47061</td>\n",
       "    </tr>\n",
       "    <tr>\n",
       "      <th>3</th>\n",
       "      <td>4</td>\n",
       "      <td>3866.85520</td>\n",
       "    </tr>\n",
       "    <tr>\n",
       "      <th>4</th>\n",
       "      <td>5</td>\n",
       "      <td>3756.62160</td>\n",
       "    </tr>\n",
       "    <tr>\n",
       "      <th>...</th>\n",
       "      <td>...</td>\n",
       "      <td>...</td>\n",
       "    </tr>\n",
       "    <tr>\n",
       "      <th>1059</th>\n",
       "      <td>1332</td>\n",
       "      <td>11411.68500</td>\n",
       "    </tr>\n",
       "    <tr>\n",
       "      <th>1060</th>\n",
       "      <td>1333</td>\n",
       "      <td>10600.54830</td>\n",
       "    </tr>\n",
       "    <tr>\n",
       "      <th>1061</th>\n",
       "      <td>1334</td>\n",
       "      <td>2205.98080</td>\n",
       "    </tr>\n",
       "    <tr>\n",
       "      <th>1062</th>\n",
       "      <td>1335</td>\n",
       "      <td>1629.83350</td>\n",
       "    </tr>\n",
       "    <tr>\n",
       "      <th>1063</th>\n",
       "      <td>1336</td>\n",
       "      <td>2007.94500</td>\n",
       "    </tr>\n",
       "  </tbody>\n",
       "</table>\n",
       "<p>1064 rows × 2 columns</p>\n",
       "</div>"
      ],
      "text/plain": [
       "      index      charges\n",
       "0         1   1725.55230\n",
       "1         2   4449.46200\n",
       "2         3  21984.47061\n",
       "3         4   3866.85520\n",
       "4         5   3756.62160\n",
       "...     ...          ...\n",
       "1059   1332  11411.68500\n",
       "1060   1333  10600.54830\n",
       "1061   1334   2205.98080\n",
       "1062   1335   1629.83350\n",
       "1063   1336   2007.94500\n",
       "\n",
       "[1064 rows x 2 columns]"
      ]
     },
     "execution_count": 18,
     "metadata": {},
     "output_type": "execute_result"
    }
   ],
   "source": [
    "# Filter data\n",
    "tagihan_non_perokok = insurance[insurance[\"smoker\"]==\"no\"][[\"charges\"]].reset_index()\n",
    "tagihan_non_perokok\n"
   ]
  },
  {
   "cell_type": "code",
   "execution_count": 19,
   "id": "cd97718e",
   "metadata": {},
   "outputs": [
    {
     "data": {
      "text/plain": [
       "index      1.642753e+05\n",
       "charges    1.327212e+08\n",
       "dtype: float64"
      ]
     },
     "execution_count": 19,
     "metadata": {},
     "output_type": "execute_result"
    }
   ],
   "source": [
    "# kita simpan ke dalam variable baru dengan numpy\n",
    "var_tagihan_perokok = np.var(tagihan_perokok)\n",
    "var_tagihan_perokok"
   ]
  },
  {
   "cell_type": "code",
   "execution_count": 20,
   "id": "af587fb9",
   "metadata": {
    "scrolled": true
   },
   "outputs": [
    {
     "data": {
      "text/plain": [
       "index      1.452963e+05\n",
       "charges    3.589166e+07\n",
       "dtype: float64"
      ]
     },
     "execution_count": 20,
     "metadata": {},
     "output_type": "execute_result"
    }
   ],
   "source": [
    "# kita simpan ke dalam variable baru dengan numpy\n",
    "var_tagihan_non_perokok = np.var(tagihan_non_perokok)\n",
    "var_tagihan_non_perokok"
   ]
  },
  {
   "cell_type": "code",
   "execution_count": 21,
   "id": "ced5f0a4",
   "metadata": {},
   "outputs": [
    {
     "data": {
      "text/plain": [
       "index      1.642753e+05\n",
       "charges    1.327212e+08\n",
       "dtype: float64"
      ]
     },
     "execution_count": 21,
     "metadata": {},
     "output_type": "execute_result"
    }
   ],
   "source": [
    "var_tagihan_perokok"
   ]
  },
  {
   "cell_type": "code",
   "execution_count": 38,
   "id": "3e8e90d4",
   "metadata": {},
   "outputs": [
    {
     "data": {
      "text/plain": [
       "index      1.452963e+05\n",
       "charges    3.589166e+07\n",
       "dtype: float64"
      ]
     },
     "execution_count": 38,
     "metadata": {},
     "output_type": "execute_result"
    }
   ],
   "source": [
    "var_tagihan_non_perokok"
   ]
  },
  {
   "cell_type": "code",
   "execution_count": 41,
   "id": "48ceb2b6",
   "metadata": {},
   "outputs": [
    {
     "data": {
      "text/plain": [
       "Text(0.5, 0, 'jumlah charges')"
      ]
     },
     "execution_count": 41,
     "metadata": {},
     "output_type": "execute_result"
    },
    {
     "data": {
      "image/png": "[encoded data removed]",
      "text/plain": [
       "<Figure size 720x432 with 2 Axes>"
      ]
     },
     "metadata": {
      "needs_background": "light"
     },
     "output_type": "display_data"
    }
   ],
   "source": [
    "plt.figure(figsize=(10,6))\n",
    "\n",
    "plt.subplot(2,1,1)\n",
    "sns.histplot(tagihan_perokok[\"charges\"], bins = 15 )\n",
    "plt.ylabel('Jumlah tagihan perokok')\n",
    "plt.xlabel('jumlah charges')\n",
    "\n",
    "\n",
    "plt.subplot(2,1,2)\n",
    "sns.histplot(tagihan_non_perokok[\"charges\"], bins = 15)\n",
    "plt.ylabel('charges tagihan non perokok')\n",
    "plt.xlabel('jumlah charges')\n"
   ]
  },
  {
   "cell_type": "markdown",
   "id": "50ba8668",
   "metadata": {},
   "source": [
    "**Artinya, tagihan perokok memiliki persebaran data lebih kecil namun harga nya lebih besar: Orang yang merokok, harganya lebih mahal karena penyakit nya perlu biaya yang besar.**"
   ]
  },
  {
   "cell_type": "markdown",
   "id": "6ac5742f",
   "metadata": {},
   "source": [
    "**d. Berapa rata-rata tagihan yang merokok dengan yang tidak merokok?**"
   ]
  },
  {
   "cell_type": "code",
   "execution_count": 23,
   "id": "c4bb1261",
   "metadata": {},
   "outputs": [
    {
     "data": {
      "text/html": [
       "<div>\n",
       "<style scoped>\n",
       "    .dataframe tbody tr th:only-of-type {\n",
       "        vertical-align: middle;\n",
       "    }\n",
       "\n",
       "    .dataframe tbody tr th {\n",
       "        vertical-align: top;\n",
       "    }\n",
       "\n",
       "    .dataframe thead th {\n",
       "        text-align: right;\n",
       "    }\n",
       "</style>\n",
       "<table border=\"1\" class=\"dataframe\">\n",
       "  <thead>\n",
       "    <tr style=\"text-align: right;\">\n",
       "      <th></th>\n",
       "      <th>age</th>\n",
       "      <th>sex</th>\n",
       "      <th>bmi</th>\n",
       "      <th>children</th>\n",
       "      <th>smoker</th>\n",
       "      <th>region</th>\n",
       "      <th>charges</th>\n",
       "    </tr>\n",
       "  </thead>\n",
       "  <tbody>\n",
       "    <tr>\n",
       "      <th>0</th>\n",
       "      <td>19</td>\n",
       "      <td>female</td>\n",
       "      <td>27.900</td>\n",
       "      <td>0</td>\n",
       "      <td>yes</td>\n",
       "      <td>southwest</td>\n",
       "      <td>16884.92400</td>\n",
       "    </tr>\n",
       "    <tr>\n",
       "      <th>1</th>\n",
       "      <td>18</td>\n",
       "      <td>male</td>\n",
       "      <td>33.770</td>\n",
       "      <td>1</td>\n",
       "      <td>no</td>\n",
       "      <td>southeast</td>\n",
       "      <td>1725.55230</td>\n",
       "    </tr>\n",
       "    <tr>\n",
       "      <th>2</th>\n",
       "      <td>28</td>\n",
       "      <td>male</td>\n",
       "      <td>33.000</td>\n",
       "      <td>3</td>\n",
       "      <td>no</td>\n",
       "      <td>southeast</td>\n",
       "      <td>4449.46200</td>\n",
       "    </tr>\n",
       "    <tr>\n",
       "      <th>3</th>\n",
       "      <td>33</td>\n",
       "      <td>male</td>\n",
       "      <td>22.705</td>\n",
       "      <td>0</td>\n",
       "      <td>no</td>\n",
       "      <td>northwest</td>\n",
       "      <td>21984.47061</td>\n",
       "    </tr>\n",
       "    <tr>\n",
       "      <th>4</th>\n",
       "      <td>32</td>\n",
       "      <td>male</td>\n",
       "      <td>28.880</td>\n",
       "      <td>0</td>\n",
       "      <td>no</td>\n",
       "      <td>northwest</td>\n",
       "      <td>3866.85520</td>\n",
       "    </tr>\n",
       "  </tbody>\n",
       "</table>\n",
       "</div>"
      ],
      "text/plain": [
       "   age     sex     bmi  children smoker     region      charges\n",
       "0   19  female  27.900         0    yes  southwest  16884.92400\n",
       "1   18    male  33.770         1     no  southeast   1725.55230\n",
       "2   28    male  33.000         3     no  southeast   4449.46200\n",
       "3   33    male  22.705         0     no  northwest  21984.47061\n",
       "4   32    male  28.880         0     no  northwest   3866.85520"
      ]
     },
     "execution_count": 23,
     "metadata": {},
     "output_type": "execute_result"
    }
   ],
   "source": [
    "# tampilkan data\n",
    "insurance.head()"
   ]
  },
  {
   "cell_type": "code",
   "execution_count": 24,
   "id": "a868b682",
   "metadata": {},
   "outputs": [
    {
     "data": {
      "text/html": [
       "<div>\n",
       "<style scoped>\n",
       "    .dataframe tbody tr th:only-of-type {\n",
       "        vertical-align: middle;\n",
       "    }\n",
       "\n",
       "    .dataframe tbody tr th {\n",
       "        vertical-align: top;\n",
       "    }\n",
       "\n",
       "    .dataframe thead th {\n",
       "        text-align: right;\n",
       "    }\n",
       "</style>\n",
       "<table border=\"1\" class=\"dataframe\">\n",
       "  <thead>\n",
       "    <tr style=\"text-align: right;\">\n",
       "      <th></th>\n",
       "      <th>charges</th>\n",
       "    </tr>\n",
       "    <tr>\n",
       "      <th>smoker</th>\n",
       "      <th></th>\n",
       "    </tr>\n",
       "  </thead>\n",
       "  <tbody>\n",
       "    <tr>\n",
       "      <th>no</th>\n",
       "      <td>8434.268298</td>\n",
       "    </tr>\n",
       "    <tr>\n",
       "      <th>yes</th>\n",
       "      <td>32050.231832</td>\n",
       "    </tr>\n",
       "  </tbody>\n",
       "</table>\n",
       "</div>"
      ],
      "text/plain": [
       "             charges\n",
       "smoker              \n",
       "no       8434.268298\n",
       "yes     32050.231832"
      ]
     },
     "execution_count": 24,
     "metadata": {},
     "output_type": "execute_result"
    }
   ],
   "source": [
    "# Data yang dibutuhkan tagihan perokok, dan tagihan non perokok.\n",
    "insurance.groupby([\"smoker\"])[[\"charges\"]].mean()"
   ]
  },
  {
   "cell_type": "markdown",
   "id": "2d93cb89",
   "metadata": {},
   "source": [
    "**Kesimpulan:** Tagihan perokok rata2 di 32050, lebih besar dibanding non perokok yaitu 8434."
   ]
  },
  {
   "cell_type": "markdown",
   "id": "235a9eb5",
   "metadata": {},
   "source": [
    "**e. Rata-rata indeks berat badan dari yang merokok dan tidak, mana yang lebih besar?**"
   ]
  },
  {
   "cell_type": "code",
   "execution_count": 25,
   "id": "4513a27d",
   "metadata": {},
   "outputs": [
    {
     "data": {
      "text/html": [
       "<div>\n",
       "<style scoped>\n",
       "    .dataframe tbody tr th:only-of-type {\n",
       "        vertical-align: middle;\n",
       "    }\n",
       "\n",
       "    .dataframe tbody tr th {\n",
       "        vertical-align: top;\n",
       "    }\n",
       "\n",
       "    .dataframe thead th {\n",
       "        text-align: right;\n",
       "    }\n",
       "</style>\n",
       "<table border=\"1\" class=\"dataframe\">\n",
       "  <thead>\n",
       "    <tr style=\"text-align: right;\">\n",
       "      <th></th>\n",
       "      <th>bmi</th>\n",
       "    </tr>\n",
       "    <tr>\n",
       "      <th>smoker</th>\n",
       "      <th></th>\n",
       "    </tr>\n",
       "  </thead>\n",
       "  <tbody>\n",
       "    <tr>\n",
       "      <th>no</th>\n",
       "      <td>30.651795</td>\n",
       "    </tr>\n",
       "    <tr>\n",
       "      <th>yes</th>\n",
       "      <td>30.708449</td>\n",
       "    </tr>\n",
       "  </tbody>\n",
       "</table>\n",
       "</div>"
      ],
      "text/plain": [
       "              bmi\n",
       "smoker           \n",
       "no      30.651795\n",
       "yes     30.708449"
      ]
     },
     "execution_count": 25,
     "metadata": {},
     "output_type": "execute_result"
    }
   ],
   "source": [
    "insurance.groupby([\"smoker\"])[[\"bmi\"]].mean()"
   ]
  },
  {
   "cell_type": "markdown",
   "id": "0b6714d4",
   "metadata": {},
   "source": [
    "**Kesimpulan:** Rata-rata indeks berat badan perokok dengan non perokok berada di antara 30.65"
   ]
  },
  {
   "cell_type": "markdown",
   "id": "ad698953",
   "metadata": {},
   "source": [
    "## **2. Analisa Variabel Diskrit**\n",
    "\n",
    "* Identifikasi peluang kondisi tertentu yang berpotensi memiliki besaran tertentu "
   ]
  },
  {
   "cell_type": "markdown",
   "id": "e2748ceb",
   "metadata": {},
   "source": [
    "**a. Gender yang memiliki tagihan paling tinggi?**"
   ]
  },
  {
   "cell_type": "code",
   "execution_count": 22,
   "id": "17d75f5f",
   "metadata": {},
   "outputs": [
    {
     "data": {
      "text/html": [
       "<div>\n",
       "<style scoped>\n",
       "    .dataframe tbody tr th:only-of-type {\n",
       "        vertical-align: middle;\n",
       "    }\n",
       "\n",
       "    .dataframe tbody tr th {\n",
       "        vertical-align: top;\n",
       "    }\n",
       "\n",
       "    .dataframe thead th {\n",
       "        text-align: right;\n",
       "    }\n",
       "</style>\n",
       "<table border=\"1\" class=\"dataframe\">\n",
       "  <thead>\n",
       "    <tr style=\"text-align: right;\">\n",
       "      <th></th>\n",
       "      <th>charges</th>\n",
       "    </tr>\n",
       "    <tr>\n",
       "      <th>sex</th>\n",
       "      <th></th>\n",
       "    </tr>\n",
       "  </thead>\n",
       "  <tbody>\n",
       "    <tr>\n",
       "      <th>female</th>\n",
       "      <td>63770.42801</td>\n",
       "    </tr>\n",
       "    <tr>\n",
       "      <th>male</th>\n",
       "      <td>62592.87309</td>\n",
       "    </tr>\n",
       "  </tbody>\n",
       "</table>\n",
       "</div>"
      ],
      "text/plain": [
       "            charges\n",
       "sex                \n",
       "female  63770.42801\n",
       "male    62592.87309"
      ]
     },
     "execution_count": 22,
     "metadata": {},
     "output_type": "execute_result"
    }
   ],
   "source": [
    "insurance.groupby([\"sex\"])[[\"charges\"]].max()"
   ]
  },
  {
   "cell_type": "markdown",
   "id": "a21942e1",
   "metadata": {},
   "source": [
    "**Kesimpulan:** Tagihan paling tinggi berada pada gender female yaitu sebesar 63770 daripada gender male"
   ]
  },
  {
   "cell_type": "code",
   "execution_count": 63,
   "id": "1ccab140",
   "metadata": {},
   "outputs": [
    {
     "name": "stdout",
     "output_type": "stream",
     "text": [
      "segini adalah proporsi perempuan: 0.5046594023333884\n"
     ]
    }
   ],
   "source": [
    "total = 63770.42801 + 62592.87309\n",
    "total\n",
    "\n",
    "female = 63770.42801\n",
    "\n",
    "proporsi_perempuan = female/total\n",
    "print(f'segini adalah proporsi perempuan: {proporsi_perempuan}')"
   ]
  },
  {
   "cell_type": "markdown",
   "id": "ba474e5b",
   "metadata": {},
   "source": [
    "**b. Apakah setiap region memiliki proporsi data banyak orang yang sama?**"
   ]
  },
  {
   "cell_type": "code",
   "execution_count": 23,
   "id": "03bc3587",
   "metadata": {},
   "outputs": [
    {
     "data": {
      "text/plain": [
       "array(['southwest', 'southeast', 'northwest', 'northeast'], dtype=object)"
      ]
     },
     "execution_count": 23,
     "metadata": {},
     "output_type": "execute_result"
    }
   ],
   "source": [
    "# Mengetahui region apa saja yang ada dalam data\n",
    "\n",
    "# Total ada 4 region \n",
    "\n",
    "insurance[\"region\"].unique()"
   ]
  },
  {
   "cell_type": "code",
   "execution_count": 24,
   "id": "006192f4",
   "metadata": {},
   "outputs": [
    {
     "data": {
      "text/plain": [
       "southeast    364\n",
       "southwest    325\n",
       "northwest    325\n",
       "northeast    324\n",
       "Name: region, dtype: int64"
      ]
     },
     "execution_count": 24,
     "metadata": {},
     "output_type": "execute_result"
    }
   ],
   "source": [
    "# masing-masing memiliki jumlah proporsi berikut:\n",
    "\n",
    "insurance[\"region\"].value_counts()"
   ]
  },
  {
   "cell_type": "code",
   "execution_count": 25,
   "id": "373b3732",
   "metadata": {},
   "outputs": [],
   "source": [
    "# assign into variables\n",
    "proporsi_region = insurance[\"region\"].value_counts()"
   ]
  },
  {
   "cell_type": "code",
   "execution_count": 26,
   "id": "2b27247e",
   "metadata": {},
   "outputs": [
    {
     "data": {
      "image/png": "[encoded data removed]",
      "text/plain": [
       "<Figure size 720x432 with 1 Axes>"
      ]
     },
     "metadata": {},
     "output_type": "display_data"
    }
   ],
   "source": [
    "plt.figure(figsize=(10,6))\n",
    "\n",
    "label = [\n",
    "    \"southeast\",\n",
    "    \"southwest\",\n",
    "    \"northwest\",\n",
    "    \"northeast\" \n",
    "    ]\n",
    "\n",
    "plt.pie(proporsi_region,labels = label, autopct = '%.0f%%')\n",
    "plt.show()"
   ]
  },
  {
   "cell_type": "markdown",
   "id": "23d49b91",
   "metadata": {},
   "source": [
    "**Kesimpulan**: Secara percentage, proporsi southeast data orang lebih besar 3% dari 3 wilayah lainnya."
   ]
  },
  {
   "cell_type": "markdown",
   "id": "d6470699",
   "metadata": {},
   "source": [
    "**c. Mana yang lebih tinggi proporsi perokok atau non perokok?**"
   ]
  },
  {
   "cell_type": "code",
   "execution_count": 27,
   "id": "353b162c",
   "metadata": {},
   "outputs": [
    {
     "data": {
      "text/plain": [
       "no     1064\n",
       "yes     274\n",
       "Name: smoker, dtype: int64"
      ]
     },
     "execution_count": 27,
     "metadata": {},
     "output_type": "execute_result"
    }
   ],
   "source": [
    "#mencari nilai value\n",
    "proporsi_perokok_dan_non = insurance[\"smoker\"].value_counts()\n",
    "proporsi_perokok_dan_non"
   ]
  },
  {
   "cell_type": "code",
   "execution_count": 28,
   "id": "e4bf6780",
   "metadata": {},
   "outputs": [
    {
     "data": {
      "image/png": "[encoded data removed]",
      "text/plain": [
       "<Figure size 720x432 with 1 Axes>"
      ]
     },
     "metadata": {},
     "output_type": "display_data"
    }
   ],
   "source": [
    "plt.figure(figsize=(10,6))\n",
    "\n",
    "label = [\n",
    "    \"No\",\n",
    "    \"Yes\" \n",
    "    ]\n",
    "\n",
    "plt.pie(proporsi_perokok_dan_non,labels = label, autopct = '%.0f%%')\n",
    "plt.show()"
   ]
  },
  {
   "cell_type": "markdown",
   "id": "55f3224c",
   "metadata": {},
   "source": [
    "**Kesimpulan:** Proporsi non perokok jauh lebih banyak sebesar 80% dibandingkan proporsi perokok."
   ]
  },
  {
   "cell_type": "markdown",
   "id": "9b9934a7",
   "metadata": {},
   "source": [
    "**d. Berapa peluang seseorang tersebut adalah laki-laki diketahui dia adalah perokok?**"
   ]
  },
  {
   "cell_type": "code",
   "execution_count": 29,
   "id": "a4e241a6",
   "metadata": {},
   "outputs": [
    {
     "data": {
      "text/html": [
       "<div>\n",
       "<style scoped>\n",
       "    .dataframe tbody tr th:only-of-type {\n",
       "        vertical-align: middle;\n",
       "    }\n",
       "\n",
       "    .dataframe tbody tr th {\n",
       "        vertical-align: top;\n",
       "    }\n",
       "\n",
       "    .dataframe thead th {\n",
       "        text-align: right;\n",
       "    }\n",
       "</style>\n",
       "<table border=\"1\" class=\"dataframe\">\n",
       "  <thead>\n",
       "    <tr style=\"text-align: right;\">\n",
       "      <th>smoker</th>\n",
       "      <th>no</th>\n",
       "      <th>yes</th>\n",
       "      <th>All</th>\n",
       "    </tr>\n",
       "    <tr>\n",
       "      <th>sex</th>\n",
       "      <th></th>\n",
       "      <th></th>\n",
       "      <th></th>\n",
       "    </tr>\n",
       "  </thead>\n",
       "  <tbody>\n",
       "    <tr>\n",
       "      <th>female</th>\n",
       "      <td>547</td>\n",
       "      <td>115</td>\n",
       "      <td>662</td>\n",
       "    </tr>\n",
       "    <tr>\n",
       "      <th>male</th>\n",
       "      <td>517</td>\n",
       "      <td>159</td>\n",
       "      <td>676</td>\n",
       "    </tr>\n",
       "    <tr>\n",
       "      <th>All</th>\n",
       "      <td>1064</td>\n",
       "      <td>274</td>\n",
       "      <td>1338</td>\n",
       "    </tr>\n",
       "  </tbody>\n",
       "</table>\n",
       "</div>"
      ],
      "text/plain": [
       "smoker    no  yes   All\n",
       "sex                    \n",
       "female   547  115   662\n",
       "male     517  159   676\n",
       "All     1064  274  1338"
      ]
     },
     "execution_count": 29,
     "metadata": {},
     "output_type": "execute_result"
    }
   ],
   "source": [
    "# melihat data-nya\n",
    "perokok = pd.crosstab(index = insurance[\"sex\"],columns = insurance[\"smoker\"],margins=True)\n",
    "perokok"
   ]
  },
  {
   "cell_type": "code",
   "execution_count": 30,
   "id": "843c9a9b",
   "metadata": {},
   "outputs": [
    {
     "data": {
      "text/plain": [
       "0.5802919708029197"
      ]
     },
     "execution_count": 30,
     "metadata": {},
     "output_type": "execute_result"
    }
   ],
   "source": [
    "#rumus --> lakiLaki | Perokok = laki_merokok / total_perokok\n",
    "\n",
    "laki_merokok = 159\n",
    "total_perokok = 274\n",
    "\n",
    "peluang_laki_merokok = laki_merokok / total_perokok\n",
    "peluang_laki_merokok"
   ]
  },
  {
   "cell_type": "markdown",
   "id": "46146a79",
   "metadata": {},
   "source": [
    "**Kesimpulan:** peluang laki-laki merokok berdasarkan data adalah **0.58%**"
   ]
  },
  {
   "cell_type": "markdown",
   "id": "3e04fac0",
   "metadata": {},
   "source": [
    "**e. Berapa peluang seseorang tersebut adalah perempuan diketahui dia adalah perokok?**"
   ]
  },
  {
   "cell_type": "code",
   "execution_count": 31,
   "id": "cc6becc0",
   "metadata": {},
   "outputs": [
    {
     "data": {
      "text/plain": [
       "0.4197080291970803"
      ]
     },
     "execution_count": 31,
     "metadata": {},
     "output_type": "execute_result"
    }
   ],
   "source": [
    "perempuan_merokok = 115\n",
    "total_perokok = 274\n",
    "\n",
    "peluang_perempuan_merokok = perempuan_merokok / total_perokok\n",
    "peluang_perempuan_merokok"
   ]
  },
  {
   "cell_type": "markdown",
   "id": "afda9ca3",
   "metadata": {},
   "source": [
    "**Kesimpulan:** peluang perempuan merokok berdasarkan data adalah **0.42%**"
   ]
  },
  {
   "cell_type": "markdown",
   "id": "42cab89a",
   "metadata": {},
   "source": [
    "## **3. Analisa Variabel Kontinu**\n",
    "\n",
    "* Variabel dalam data yang kita punya bisa jadi tidak semuanya berbentuk diskrit, untuk memahami kemungkinan kondisi variabel bernilai kontinu pada data, kita bisa melakukan analisa pada data tersebut."
   ]
  },
  {
   "cell_type": "markdown",
   "id": "ebe1fb05",
   "metadata": {},
   "source": [
    "**1. Mana yang lebih mungkin terjadi:**\n",
    "* a. Seorang dengan bmi diatas 25 mendapatkan tagihan kesehatan diatas 16.7k\n",
    "* b. Seseorang dengan bmi dibawah 25 mendapatkan tagihan kesehatan diatas 16.7k\n"
   ]
  },
  {
   "cell_type": "code",
   "execution_count": 32,
   "id": "63a346ea",
   "metadata": {},
   "outputs": [
    {
     "data": {
      "text/html": [
       "<div>\n",
       "<style scoped>\n",
       "    .dataframe tbody tr th:only-of-type {\n",
       "        vertical-align: middle;\n",
       "    }\n",
       "\n",
       "    .dataframe tbody tr th {\n",
       "        vertical-align: top;\n",
       "    }\n",
       "\n",
       "    .dataframe thead th {\n",
       "        text-align: right;\n",
       "    }\n",
       "</style>\n",
       "<table border=\"1\" class=\"dataframe\">\n",
       "  <thead>\n",
       "    <tr style=\"text-align: right;\">\n",
       "      <th></th>\n",
       "      <th>charges</th>\n",
       "    </tr>\n",
       "  </thead>\n",
       "  <tbody>\n",
       "    <tr>\n",
       "      <th>0</th>\n",
       "      <td>16884.9240</td>\n",
       "    </tr>\n",
       "    <tr>\n",
       "      <th>1</th>\n",
       "      <td>1725.5523</td>\n",
       "    </tr>\n",
       "    <tr>\n",
       "      <th>2</th>\n",
       "      <td>4449.4620</td>\n",
       "    </tr>\n",
       "    <tr>\n",
       "      <th>3</th>\n",
       "      <td>3866.8552</td>\n",
       "    </tr>\n",
       "    <tr>\n",
       "      <th>4</th>\n",
       "      <td>3756.6216</td>\n",
       "    </tr>\n",
       "    <tr>\n",
       "      <th>...</th>\n",
       "      <td>...</td>\n",
       "    </tr>\n",
       "    <tr>\n",
       "      <th>1086</th>\n",
       "      <td>10600.5483</td>\n",
       "    </tr>\n",
       "    <tr>\n",
       "      <th>1087</th>\n",
       "      <td>2205.9808</td>\n",
       "    </tr>\n",
       "    <tr>\n",
       "      <th>1088</th>\n",
       "      <td>1629.8335</td>\n",
       "    </tr>\n",
       "    <tr>\n",
       "      <th>1089</th>\n",
       "      <td>2007.9450</td>\n",
       "    </tr>\n",
       "    <tr>\n",
       "      <th>1090</th>\n",
       "      <td>29141.3603</td>\n",
       "    </tr>\n",
       "  </tbody>\n",
       "</table>\n",
       "<p>1091 rows × 1 columns</p>\n",
       "</div>"
      ],
      "text/plain": [
       "         charges\n",
       "0     16884.9240\n",
       "1      1725.5523\n",
       "2      4449.4620\n",
       "3      3866.8552\n",
       "4      3756.6216\n",
       "...          ...\n",
       "1086  10600.5483\n",
       "1087   2205.9808\n",
       "1088   1629.8335\n",
       "1089   2007.9450\n",
       "1090  29141.3603\n",
       "\n",
       "[1091 rows x 1 columns]"
      ]
     },
     "execution_count": 32,
     "metadata": {},
     "output_type": "execute_result"
    }
   ],
   "source": [
    "# yang nomer a\n",
    "\n",
    "bmi_atas = insurance[insurance[\"bmi\"] > 25][[\"charges\"]].reset_index(drop=True)\n",
    "bmi_atas"
   ]
  },
  {
   "cell_type": "code",
   "execution_count": 33,
   "id": "ed9223da",
   "metadata": {},
   "outputs": [
    {
     "data": {
      "text/html": [
       "<div>\n",
       "<style scoped>\n",
       "    .dataframe tbody tr th:only-of-type {\n",
       "        vertical-align: middle;\n",
       "    }\n",
       "\n",
       "    .dataframe tbody tr th {\n",
       "        vertical-align: top;\n",
       "    }\n",
       "\n",
       "    .dataframe thead th {\n",
       "        text-align: right;\n",
       "    }\n",
       "</style>\n",
       "<table border=\"1\" class=\"dataframe\">\n",
       "  <thead>\n",
       "    <tr style=\"text-align: right;\">\n",
       "      <th></th>\n",
       "      <th>charges</th>\n",
       "    </tr>\n",
       "  </thead>\n",
       "  <tbody>\n",
       "    <tr>\n",
       "      <th>0</th>\n",
       "      <td>16884.92400</td>\n",
       "    </tr>\n",
       "    <tr>\n",
       "      <th>1</th>\n",
       "      <td>28923.13692</td>\n",
       "    </tr>\n",
       "    <tr>\n",
       "      <th>2</th>\n",
       "      <td>27808.72510</td>\n",
       "    </tr>\n",
       "    <tr>\n",
       "      <th>3</th>\n",
       "      <td>39611.75770</td>\n",
       "    </tr>\n",
       "    <tr>\n",
       "      <th>4</th>\n",
       "      <td>36837.46700</td>\n",
       "    </tr>\n",
       "    <tr>\n",
       "      <th>...</th>\n",
       "      <td>...</td>\n",
       "    </tr>\n",
       "    <tr>\n",
       "      <th>278</th>\n",
       "      <td>36397.57600</td>\n",
       "    </tr>\n",
       "    <tr>\n",
       "      <th>279</th>\n",
       "      <td>19496.71917</td>\n",
       "    </tr>\n",
       "    <tr>\n",
       "      <th>280</th>\n",
       "      <td>28101.33305</td>\n",
       "    </tr>\n",
       "    <tr>\n",
       "      <th>281</th>\n",
       "      <td>43896.37630</td>\n",
       "    </tr>\n",
       "    <tr>\n",
       "      <th>282</th>\n",
       "      <td>29141.36030</td>\n",
       "    </tr>\n",
       "  </tbody>\n",
       "</table>\n",
       "<p>283 rows × 1 columns</p>\n",
       "</div>"
      ],
      "text/plain": [
       "         charges\n",
       "0    16884.92400\n",
       "1    28923.13692\n",
       "2    27808.72510\n",
       "3    39611.75770\n",
       "4    36837.46700\n",
       "..           ...\n",
       "278  36397.57600\n",
       "279  19496.71917\n",
       "280  28101.33305\n",
       "281  43896.37630\n",
       "282  29141.36030\n",
       "\n",
       "[283 rows x 1 columns]"
      ]
     },
     "execution_count": 33,
     "metadata": {},
     "output_type": "execute_result"
    }
   ],
   "source": [
    "bmi_atas_filter = bmi_atas[bmi_atas[\"charges\"] > 16700].reset_index(drop=True)\n",
    "bmi_atas_filter"
   ]
  },
  {
   "cell_type": "code",
   "execution_count": 34,
   "id": "f7a48bb7",
   "metadata": {},
   "outputs": [
    {
     "data": {
      "text/plain": [
       "0.25939505041246563"
      ]
     },
     "execution_count": 34,
     "metadata": {},
     "output_type": "execute_result"
    }
   ],
   "source": [
    "# Mencari proporsi data atas filter dengan data bmi atas \n",
    "proporsi_a = len(bmi_atas_filter)/len(bmi_atas)\n",
    "proporsi_a"
   ]
  },
  {
   "cell_type": "markdown",
   "id": "1e32bed0",
   "metadata": {},
   "source": [
    "**Sekarang mencari soal b**"
   ]
  },
  {
   "cell_type": "code",
   "execution_count": 35,
   "id": "e1a842e3",
   "metadata": {},
   "outputs": [
    {
     "data": {
      "text/html": [
       "<div>\n",
       "<style scoped>\n",
       "    .dataframe tbody tr th:only-of-type {\n",
       "        vertical-align: middle;\n",
       "    }\n",
       "\n",
       "    .dataframe tbody tr th {\n",
       "        vertical-align: top;\n",
       "    }\n",
       "\n",
       "    .dataframe thead th {\n",
       "        text-align: right;\n",
       "    }\n",
       "</style>\n",
       "<table border=\"1\" class=\"dataframe\">\n",
       "  <thead>\n",
       "    <tr style=\"text-align: right;\">\n",
       "      <th></th>\n",
       "      <th>charges</th>\n",
       "    </tr>\n",
       "  </thead>\n",
       "  <tbody>\n",
       "    <tr>\n",
       "      <th>0</th>\n",
       "      <td>21984.47061</td>\n",
       "    </tr>\n",
       "    <tr>\n",
       "      <th>1</th>\n",
       "      <td>1837.23700</td>\n",
       "    </tr>\n",
       "    <tr>\n",
       "      <th>2</th>\n",
       "      <td>2395.17155</td>\n",
       "    </tr>\n",
       "    <tr>\n",
       "      <th>3</th>\n",
       "      <td>14451.83515</td>\n",
       "    </tr>\n",
       "    <tr>\n",
       "      <th>4</th>\n",
       "      <td>2775.19215</td>\n",
       "    </tr>\n",
       "    <tr>\n",
       "      <th>...</th>\n",
       "      <td>...</td>\n",
       "    </tr>\n",
       "    <tr>\n",
       "      <th>240</th>\n",
       "      <td>21259.37795</td>\n",
       "    </tr>\n",
       "    <tr>\n",
       "      <th>241</th>\n",
       "      <td>16115.30450</td>\n",
       "    </tr>\n",
       "    <tr>\n",
       "      <th>242</th>\n",
       "      <td>18765.87545</td>\n",
       "    </tr>\n",
       "    <tr>\n",
       "      <th>243</th>\n",
       "      <td>1731.67700</td>\n",
       "    </tr>\n",
       "    <tr>\n",
       "      <th>244</th>\n",
       "      <td>22395.74424</td>\n",
       "    </tr>\n",
       "  </tbody>\n",
       "</table>\n",
       "<p>245 rows × 1 columns</p>\n",
       "</div>"
      ],
      "text/plain": [
       "         charges\n",
       "0    21984.47061\n",
       "1     1837.23700\n",
       "2     2395.17155\n",
       "3    14451.83515\n",
       "4     2775.19215\n",
       "..           ...\n",
       "240  21259.37795\n",
       "241  16115.30450\n",
       "242  18765.87545\n",
       "243   1731.67700\n",
       "244  22395.74424\n",
       "\n",
       "[245 rows x 1 columns]"
      ]
     },
     "execution_count": 35,
     "metadata": {},
     "output_type": "execute_result"
    }
   ],
   "source": [
    "# filter berdasarkan bmi\n",
    "bmi_bawah = insurance[insurance[\"bmi\"] < 25][[\"charges\"]].reset_index(drop=True)\n",
    "bmi_bawah"
   ]
  },
  {
   "cell_type": "code",
   "execution_count": 36,
   "id": "7c3a7cfd",
   "metadata": {},
   "outputs": [
    {
     "data": {
      "text/html": [
       "<div>\n",
       "<style scoped>\n",
       "    .dataframe tbody tr th:only-of-type {\n",
       "        vertical-align: middle;\n",
       "    }\n",
       "\n",
       "    .dataframe tbody tr th {\n",
       "        vertical-align: top;\n",
       "    }\n",
       "\n",
       "    .dataframe thead th {\n",
       "        text-align: right;\n",
       "    }\n",
       "</style>\n",
       "<table border=\"1\" class=\"dataframe\">\n",
       "  <thead>\n",
       "    <tr style=\"text-align: right;\">\n",
       "      <th></th>\n",
       "      <th>charges</th>\n",
       "    </tr>\n",
       "  </thead>\n",
       "  <tbody>\n",
       "    <tr>\n",
       "      <th>0</th>\n",
       "      <td>21984.47061</td>\n",
       "    </tr>\n",
       "    <tr>\n",
       "      <th>1</th>\n",
       "      <td>23244.79020</td>\n",
       "    </tr>\n",
       "    <tr>\n",
       "      <th>2</th>\n",
       "      <td>30166.61817</td>\n",
       "    </tr>\n",
       "    <tr>\n",
       "      <th>3</th>\n",
       "      <td>17663.14420</td>\n",
       "    </tr>\n",
       "    <tr>\n",
       "      <th>4</th>\n",
       "      <td>21098.55405</td>\n",
       "    </tr>\n",
       "    <tr>\n",
       "      <th>5</th>\n",
       "      <td>22412.64850</td>\n",
       "    </tr>\n",
       "    <tr>\n",
       "      <th>6</th>\n",
       "      <td>32734.18630</td>\n",
       "    </tr>\n",
       "    <tr>\n",
       "      <th>7</th>\n",
       "      <td>27375.90478</td>\n",
       "    </tr>\n",
       "    <tr>\n",
       "      <th>8</th>\n",
       "      <td>19964.74630</td>\n",
       "    </tr>\n",
       "    <tr>\n",
       "      <th>9</th>\n",
       "      <td>21223.67580</td>\n",
       "    </tr>\n",
       "  </tbody>\n",
       "</table>\n",
       "</div>"
      ],
      "text/plain": [
       "       charges\n",
       "0  21984.47061\n",
       "1  23244.79020\n",
       "2  30166.61817\n",
       "3  17663.14420\n",
       "4  21098.55405\n",
       "5  22412.64850\n",
       "6  32734.18630\n",
       "7  27375.90478\n",
       "8  19964.74630\n",
       "9  21223.67580"
      ]
     },
     "execution_count": 36,
     "metadata": {},
     "output_type": "execute_result"
    }
   ],
   "source": [
    "# filter bmi berdasarkan 16.700\n",
    "bmi_bawah_filter = bmi_bawah[bmi_bawah[\"charges\"]>16700].reset_index(drop=True)\n",
    "bmi_bawah_filter.head(10)"
   ]
  },
  {
   "cell_type": "code",
   "execution_count": 37,
   "id": "7190e6bc",
   "metadata": {},
   "outputs": [
    {
     "data": {
      "text/plain": [
       "0.20816326530612245"
      ]
     },
     "execution_count": 37,
     "metadata": {},
     "output_type": "execute_result"
    }
   ],
   "source": [
    "# sekarang kalkulasi\n",
    "proporsi_b = len(bmi_bawah_filter)/len(bmi_bawah)\n",
    "proporsi_b"
   ]
  },
  {
   "cell_type": "code",
   "execution_count": 38,
   "id": "3d134118",
   "metadata": {},
   "outputs": [
    {
     "name": "stdout",
     "output_type": "stream",
     "text": [
      "Sehingga jawaban nya adalah proporsi: 0.26 karena dia lebih memungkinkan dibandingkan proporsi b 0.21\n"
     ]
    }
   ],
   "source": [
    "print(f\"Sehingga jawaban nya adalah proporsi: {proporsi_a:.2f} karena dia lebih memungkinkan dibandingkan proporsi b {proporsi_b:.2f}\") "
   ]
  },
  {
   "cell_type": "markdown",
   "id": "4cd39f5b",
   "metadata": {},
   "source": [
    "**2. Mana yang lebih mungkin terjadi:**\n",
    "* a. Seorang perokok dengan BMI diatas 25 mendapatkan tagihan kesehatan diatas 16.7k, atau \n",
    "* b. Seseorang non perokok dengan BMI diatas 25 mendapatkan tagihan kesehatan diatas 16.7k\n"
   ]
  },
  {
   "cell_type": "code",
   "execution_count": 39,
   "id": "3300378f",
   "metadata": {},
   "outputs": [
    {
     "data": {
      "text/html": [
       "<div>\n",
       "<style scoped>\n",
       "    .dataframe tbody tr th:only-of-type {\n",
       "        vertical-align: middle;\n",
       "    }\n",
       "\n",
       "    .dataframe tbody tr th {\n",
       "        vertical-align: top;\n",
       "    }\n",
       "\n",
       "    .dataframe thead th {\n",
       "        text-align: right;\n",
       "    }\n",
       "</style>\n",
       "<table border=\"1\" class=\"dataframe\">\n",
       "  <thead>\n",
       "    <tr style=\"text-align: right;\">\n",
       "      <th></th>\n",
       "      <th>charges</th>\n",
       "    </tr>\n",
       "  </thead>\n",
       "  <tbody>\n",
       "    <tr>\n",
       "      <th>0</th>\n",
       "      <td>16884.92400</td>\n",
       "    </tr>\n",
       "    <tr>\n",
       "      <th>1</th>\n",
       "      <td>27808.72510</td>\n",
       "    </tr>\n",
       "    <tr>\n",
       "      <th>2</th>\n",
       "      <td>39611.75770</td>\n",
       "    </tr>\n",
       "    <tr>\n",
       "      <th>3</th>\n",
       "      <td>36837.46700</td>\n",
       "    </tr>\n",
       "    <tr>\n",
       "      <th>4</th>\n",
       "      <td>37701.87680</td>\n",
       "    </tr>\n",
       "    <tr>\n",
       "      <th>...</th>\n",
       "      <td>...</td>\n",
       "    </tr>\n",
       "    <tr>\n",
       "      <th>214</th>\n",
       "      <td>33900.65300</td>\n",
       "    </tr>\n",
       "    <tr>\n",
       "      <th>215</th>\n",
       "      <td>36397.57600</td>\n",
       "    </tr>\n",
       "    <tr>\n",
       "      <th>216</th>\n",
       "      <td>28101.33305</td>\n",
       "    </tr>\n",
       "    <tr>\n",
       "      <th>217</th>\n",
       "      <td>43896.37630</td>\n",
       "    </tr>\n",
       "    <tr>\n",
       "      <th>218</th>\n",
       "      <td>29141.36030</td>\n",
       "    </tr>\n",
       "  </tbody>\n",
       "</table>\n",
       "<p>219 rows × 1 columns</p>\n",
       "</div>"
      ],
      "text/plain": [
       "         charges\n",
       "0    16884.92400\n",
       "1    27808.72510\n",
       "2    39611.75770\n",
       "3    36837.46700\n",
       "4    37701.87680\n",
       "..           ...\n",
       "214  33900.65300\n",
       "215  36397.57600\n",
       "216  28101.33305\n",
       "217  43896.37630\n",
       "218  29141.36030\n",
       "\n",
       "[219 rows x 1 columns]"
      ]
     },
     "execution_count": 39,
     "metadata": {},
     "output_type": "execute_result"
    }
   ],
   "source": [
    "# Seorang perokok dengan BMI diatas 25 mendapatkan tagihan kesehatan diatas 16.7k\n",
    "# filter berdasarkan bmi perokok\n",
    "\n",
    "bmi_perokok = insurance[(insurance[\"bmi\"] > 25) & (insurance[\"smoker\"]==\"yes\")][[\"charges\"]].reset_index(drop=True)\n",
    "bmi_perokok"
   ]
  },
  {
   "cell_type": "code",
   "execution_count": 40,
   "id": "4382a901",
   "metadata": {},
   "outputs": [
    {
     "data": {
      "text/html": [
       "<div>\n",
       "<style scoped>\n",
       "    .dataframe tbody tr th:only-of-type {\n",
       "        vertical-align: middle;\n",
       "    }\n",
       "\n",
       "    .dataframe tbody tr th {\n",
       "        vertical-align: top;\n",
       "    }\n",
       "\n",
       "    .dataframe thead th {\n",
       "        text-align: right;\n",
       "    }\n",
       "</style>\n",
       "<table border=\"1\" class=\"dataframe\">\n",
       "  <thead>\n",
       "    <tr style=\"text-align: right;\">\n",
       "      <th></th>\n",
       "      <th>charges</th>\n",
       "    </tr>\n",
       "  </thead>\n",
       "  <tbody>\n",
       "    <tr>\n",
       "      <th>0</th>\n",
       "      <td>16884.92400</td>\n",
       "    </tr>\n",
       "    <tr>\n",
       "      <th>1</th>\n",
       "      <td>27808.72510</td>\n",
       "    </tr>\n",
       "    <tr>\n",
       "      <th>2</th>\n",
       "      <td>39611.75770</td>\n",
       "    </tr>\n",
       "    <tr>\n",
       "      <th>3</th>\n",
       "      <td>36837.46700</td>\n",
       "    </tr>\n",
       "    <tr>\n",
       "      <th>4</th>\n",
       "      <td>37701.87680</td>\n",
       "    </tr>\n",
       "    <tr>\n",
       "      <th>...</th>\n",
       "      <td>...</td>\n",
       "    </tr>\n",
       "    <tr>\n",
       "      <th>210</th>\n",
       "      <td>33900.65300</td>\n",
       "    </tr>\n",
       "    <tr>\n",
       "      <th>211</th>\n",
       "      <td>36397.57600</td>\n",
       "    </tr>\n",
       "    <tr>\n",
       "      <th>212</th>\n",
       "      <td>28101.33305</td>\n",
       "    </tr>\n",
       "    <tr>\n",
       "      <th>213</th>\n",
       "      <td>43896.37630</td>\n",
       "    </tr>\n",
       "    <tr>\n",
       "      <th>214</th>\n",
       "      <td>29141.36030</td>\n",
       "    </tr>\n",
       "  </tbody>\n",
       "</table>\n",
       "<p>215 rows × 1 columns</p>\n",
       "</div>"
      ],
      "text/plain": [
       "         charges\n",
       "0    16884.92400\n",
       "1    27808.72510\n",
       "2    39611.75770\n",
       "3    36837.46700\n",
       "4    37701.87680\n",
       "..           ...\n",
       "210  33900.65300\n",
       "211  36397.57600\n",
       "212  28101.33305\n",
       "213  43896.37630\n",
       "214  29141.36030\n",
       "\n",
       "[215 rows x 1 columns]"
      ]
     },
     "execution_count": 40,
     "metadata": {},
     "output_type": "execute_result"
    }
   ],
   "source": [
    "#filter lagi berdasarkan perokok dengan biaya nya\n",
    "bmi_perokok_filter = bmi_perokok[bmi_perokok[\"charges\"] > 16700].reset_index(drop=True)\n",
    "bmi_perokok_filter"
   ]
  },
  {
   "cell_type": "code",
   "execution_count": 41,
   "id": "4e4eb1e5",
   "metadata": {},
   "outputs": [
    {
     "data": {
      "text/plain": [
       "0.9817351598173516"
      ]
     },
     "execution_count": 41,
     "metadata": {},
     "output_type": "execute_result"
    }
   ],
   "source": [
    "# kalkulasi proporsi nya \n",
    "proporsi_perokok = len(bmi_perokok_filter)/len(bmi_perokok)\n",
    "proporsi_perokok"
   ]
  },
  {
   "cell_type": "markdown",
   "id": "eee74b82",
   "metadata": {},
   "source": [
    "**Sekarang mencari soal yang b**"
   ]
  },
  {
   "cell_type": "code",
   "execution_count": 42,
   "id": "0bfeb5e5",
   "metadata": {},
   "outputs": [
    {
     "data": {
      "text/html": [
       "<div>\n",
       "<style scoped>\n",
       "    .dataframe tbody tr th:only-of-type {\n",
       "        vertical-align: middle;\n",
       "    }\n",
       "\n",
       "    .dataframe tbody tr th {\n",
       "        vertical-align: top;\n",
       "    }\n",
       "\n",
       "    .dataframe thead th {\n",
       "        text-align: right;\n",
       "    }\n",
       "</style>\n",
       "<table border=\"1\" class=\"dataframe\">\n",
       "  <thead>\n",
       "    <tr style=\"text-align: right;\">\n",
       "      <th></th>\n",
       "      <th>charges</th>\n",
       "    </tr>\n",
       "  </thead>\n",
       "  <tbody>\n",
       "    <tr>\n",
       "      <th>0</th>\n",
       "      <td>1725.5523</td>\n",
       "    </tr>\n",
       "    <tr>\n",
       "      <th>1</th>\n",
       "      <td>4449.4620</td>\n",
       "    </tr>\n",
       "    <tr>\n",
       "      <th>2</th>\n",
       "      <td>3866.8552</td>\n",
       "    </tr>\n",
       "    <tr>\n",
       "      <th>3</th>\n",
       "      <td>3756.6216</td>\n",
       "    </tr>\n",
       "    <tr>\n",
       "      <th>4</th>\n",
       "      <td>8240.5896</td>\n",
       "    </tr>\n",
       "    <tr>\n",
       "      <th>...</th>\n",
       "      <td>...</td>\n",
       "    </tr>\n",
       "    <tr>\n",
       "      <th>867</th>\n",
       "      <td>11411.6850</td>\n",
       "    </tr>\n",
       "    <tr>\n",
       "      <th>868</th>\n",
       "      <td>10600.5483</td>\n",
       "    </tr>\n",
       "    <tr>\n",
       "      <th>869</th>\n",
       "      <td>2205.9808</td>\n",
       "    </tr>\n",
       "    <tr>\n",
       "      <th>870</th>\n",
       "      <td>1629.8335</td>\n",
       "    </tr>\n",
       "    <tr>\n",
       "      <th>871</th>\n",
       "      <td>2007.9450</td>\n",
       "    </tr>\n",
       "  </tbody>\n",
       "</table>\n",
       "<p>872 rows × 1 columns</p>\n",
       "</div>"
      ],
      "text/plain": [
       "        charges\n",
       "0     1725.5523\n",
       "1     4449.4620\n",
       "2     3866.8552\n",
       "3     3756.6216\n",
       "4     8240.5896\n",
       "..          ...\n",
       "867  11411.6850\n",
       "868  10600.5483\n",
       "869   2205.9808\n",
       "870   1629.8335\n",
       "871   2007.9450\n",
       "\n",
       "[872 rows x 1 columns]"
      ]
     },
     "execution_count": 42,
     "metadata": {},
     "output_type": "execute_result"
    }
   ],
   "source": [
    "# Seseorang non perokok dengan BMI diatas 25 mendapatkan tagihan kesehatan diatas 16.7k\n",
    "bmi_non = insurance[(insurance[\"bmi\"]>25) & (insurance[\"smoker\"]==\"no\")][[\"charges\"]].reset_index(drop=True)\n",
    "bmi_non"
   ]
  },
  {
   "cell_type": "code",
   "execution_count": 43,
   "id": "01b6d987",
   "metadata": {},
   "outputs": [
    {
     "data": {
      "text/html": [
       "<div>\n",
       "<style scoped>\n",
       "    .dataframe tbody tr th:only-of-type {\n",
       "        vertical-align: middle;\n",
       "    }\n",
       "\n",
       "    .dataframe tbody tr th {\n",
       "        vertical-align: top;\n",
       "    }\n",
       "\n",
       "    .dataframe thead th {\n",
       "        text-align: right;\n",
       "    }\n",
       "</style>\n",
       "<table border=\"1\" class=\"dataframe\">\n",
       "  <thead>\n",
       "    <tr style=\"text-align: right;\">\n",
       "      <th></th>\n",
       "      <th>charges</th>\n",
       "    </tr>\n",
       "  </thead>\n",
       "  <tbody>\n",
       "    <tr>\n",
       "      <th>0</th>\n",
       "      <td>28923.13692</td>\n",
       "    </tr>\n",
       "    <tr>\n",
       "      <th>1</th>\n",
       "      <td>20630.28351</td>\n",
       "    </tr>\n",
       "    <tr>\n",
       "      <th>2</th>\n",
       "      <td>21344.84670</td>\n",
       "    </tr>\n",
       "    <tr>\n",
       "      <th>3</th>\n",
       "      <td>30259.99556</td>\n",
       "    </tr>\n",
       "    <tr>\n",
       "      <th>4</th>\n",
       "      <td>27322.73386</td>\n",
       "    </tr>\n",
       "    <tr>\n",
       "      <th>...</th>\n",
       "      <td>...</td>\n",
       "    </tr>\n",
       "    <tr>\n",
       "      <th>63</th>\n",
       "      <td>18838.70366</td>\n",
       "    </tr>\n",
       "    <tr>\n",
       "      <th>64</th>\n",
       "      <td>36910.60803</td>\n",
       "    </tr>\n",
       "    <tr>\n",
       "      <th>65</th>\n",
       "      <td>23563.01618</td>\n",
       "    </tr>\n",
       "    <tr>\n",
       "      <th>66</th>\n",
       "      <td>30063.58055</td>\n",
       "    </tr>\n",
       "    <tr>\n",
       "      <th>67</th>\n",
       "      <td>19496.71917</td>\n",
       "    </tr>\n",
       "  </tbody>\n",
       "</table>\n",
       "<p>68 rows × 1 columns</p>\n",
       "</div>"
      ],
      "text/plain": [
       "        charges\n",
       "0   28923.13692\n",
       "1   20630.28351\n",
       "2   21344.84670\n",
       "3   30259.99556\n",
       "4   27322.73386\n",
       "..          ...\n",
       "63  18838.70366\n",
       "64  36910.60803\n",
       "65  23563.01618\n",
       "66  30063.58055\n",
       "67  19496.71917\n",
       "\n",
       "[68 rows x 1 columns]"
      ]
     },
     "execution_count": 43,
     "metadata": {},
     "output_type": "execute_result"
    }
   ],
   "source": [
    "# Sekarang filter berdasarkan biaya nya \n",
    "bmi_non_filter = bmi_non[bmi_non[\"charges\"]>16700].reset_index(drop=True)\n",
    "bmi_non_filter"
   ]
  },
  {
   "cell_type": "code",
   "execution_count": 44,
   "id": "aea5782e",
   "metadata": {},
   "outputs": [
    {
     "data": {
      "text/plain": [
       "0.0779816513761468"
      ]
     },
     "execution_count": 44,
     "metadata": {},
     "output_type": "execute_result"
    }
   ],
   "source": [
    "# lalu melakukan kalkulasi\n",
    "proporsi_non_perokok = len(bmi_non_filter)/len(bmi_non)\n",
    "proporsi_non_perokok"
   ]
  },
  {
   "cell_type": "code",
   "execution_count": 45,
   "id": "502d7124",
   "metadata": {},
   "outputs": [
    {
     "name": "stdout",
     "output_type": "stream",
     "text": [
      "Artinya yang mungkin terjadi adalah proporsi perokok 0.98\n",
      "Dibandingkan proporsi non perokok 0.08\n"
     ]
    }
   ],
   "source": [
    "print(f\"Artinya yang mungkin terjadi adalah proporsi perokok {proporsi_perokok:.2f}\")\n",
    "print(f\"Dibandingkan proporsi non perokok {proporsi_non_perokok:.2f}\")"
   ]
  },
  {
   "cell_type": "markdown",
   "id": "0c3b0e92",
   "metadata": {},
   "source": [
    "## **4. Analisa Korelasi Variabel**\n",
    "\n",
    "* Korelasi tagihan kesehatan minimal dengan 2 variabel lainnya, misalnya dengan bmi dan variable tanggungan anak."
   ]
  },
  {
   "cell_type": "code",
   "execution_count": 46,
   "id": "3feb55de",
   "metadata": {},
   "outputs": [
    {
     "data": {
      "text/html": [
       "<div>\n",
       "<style scoped>\n",
       "    .dataframe tbody tr th:only-of-type {\n",
       "        vertical-align: middle;\n",
       "    }\n",
       "\n",
       "    .dataframe tbody tr th {\n",
       "        vertical-align: top;\n",
       "    }\n",
       "\n",
       "    .dataframe thead th {\n",
       "        text-align: right;\n",
       "    }\n",
       "</style>\n",
       "<table border=\"1\" class=\"dataframe\">\n",
       "  <thead>\n",
       "    <tr style=\"text-align: right;\">\n",
       "      <th></th>\n",
       "      <th>age</th>\n",
       "      <th>bmi</th>\n",
       "      <th>children</th>\n",
       "      <th>charges</th>\n",
       "    </tr>\n",
       "  </thead>\n",
       "  <tbody>\n",
       "    <tr>\n",
       "      <th>age</th>\n",
       "      <td>1.000000</td>\n",
       "      <td>0.109272</td>\n",
       "      <td>0.042469</td>\n",
       "      <td>0.299008</td>\n",
       "    </tr>\n",
       "    <tr>\n",
       "      <th>bmi</th>\n",
       "      <td>0.109272</td>\n",
       "      <td>1.000000</td>\n",
       "      <td>0.012759</td>\n",
       "      <td>0.198341</td>\n",
       "    </tr>\n",
       "    <tr>\n",
       "      <th>children</th>\n",
       "      <td>0.042469</td>\n",
       "      <td>0.012759</td>\n",
       "      <td>1.000000</td>\n",
       "      <td>0.067998</td>\n",
       "    </tr>\n",
       "    <tr>\n",
       "      <th>charges</th>\n",
       "      <td>0.299008</td>\n",
       "      <td>0.198341</td>\n",
       "      <td>0.067998</td>\n",
       "      <td>1.000000</td>\n",
       "    </tr>\n",
       "  </tbody>\n",
       "</table>\n",
       "</div>"
      ],
      "text/plain": [
       "               age       bmi  children   charges\n",
       "age       1.000000  0.109272  0.042469  0.299008\n",
       "bmi       0.109272  1.000000  0.012759  0.198341\n",
       "children  0.042469  0.012759  1.000000  0.067998\n",
       "charges   0.299008  0.198341  0.067998  1.000000"
      ]
     },
     "execution_count": 46,
     "metadata": {},
     "output_type": "execute_result"
    }
   ],
   "source": [
    "# langsung saja kita panggil menggunakan metode fungsi corr()\n",
    "insurance.corr()"
   ]
  },
  {
   "cell_type": "code",
   "execution_count": 47,
   "id": "755e059a",
   "metadata": {},
   "outputs": [
    {
     "data": {
      "image/png": "[encoded data removed]",
      "text/plain": [
       "<Figure size 432x288 with 2 Axes>"
      ]
     },
     "metadata": {
      "needs_background": "light"
     },
     "output_type": "display_data"
    }
   ],
   "source": [
    "#kita buat kan visualisasi nya \n",
    "\n",
    "dataplot = sns.heatmap(insurance.corr(), cmap = \"YlGnBu\", annot=True)\n",
    "\n",
    "#tampakkan heat map\n",
    "plt.show()"
   ]
  },
  {
   "cell_type": "code",
   "execution_count": 48,
   "id": "c719ab48",
   "metadata": {},
   "outputs": [
    {
     "data": {
      "image/png": "[encoded data removed]",
      "text/plain": [
       "<Figure size 432x288 with 1 Axes>"
      ]
     },
     "metadata": {
      "needs_background": "light"
     },
     "output_type": "display_data"
    }
   ],
   "source": [
    "plt.title('Age vs Charges')\n",
    "plt.xlabel('Age')\n",
    "plt.ylabel('Charges')\n",
    "plt.scatter(x =\"age\", y = \"charges\", color = 'y', data = insurance)\n",
    "plt.show()"
   ]
  },
  {
   "cell_type": "markdown",
   "id": "ecd797ce",
   "metadata": {},
   "source": [
    "**Kesimpulan** Korelasi antara: **tagihan** dengan **umur** adalah yang paling mendekati 1, semakin tinggi umurnya, semakin naik juga tagihan nya."
   ]
  },
  {
   "cell_type": "markdown",
   "id": "ca5ee15f",
   "metadata": {},
   "source": [
    "## **5. Pengujian Hipotesis**\n",
    "- 1. Tagihan kesehatan laki-laki lebih tinggi dari perempuan.\n",
    "- 2. Proporsi perokok laki-laki lebih besar dari perempuan.\n",
    "- 3. Variansi tagihan kesehatan perokok dan non perokok sama."
   ]
  },
  {
   "cell_type": "code",
   "execution_count": 49,
   "id": "d67e93fe",
   "metadata": {},
   "outputs": [],
   "source": [
    "# rata-rata .mean()\n",
    "# varians np.var()\n",
    "# standar deviasi statistics.stdev()"
   ]
  },
  {
   "cell_type": "markdown",
   "id": "63fed61f",
   "metadata": {},
   "source": [
    "1. **Menjawab Tagihan kesehatan laki-laki lebih tinggi dari perempuan.**"
   ]
  },
  {
   "cell_type": "markdown",
   "id": "a1b298bd",
   "metadata": {},
   "source": [
    "Diketahui tagihan paling tinggi berada pada gender female yaitu sebesar 63770 daripada gender male. Lalu disini dinyatakan bahwa apakah tagihan kesehatan laki-laki lebih tinggi dari perempuan. \n",
    "\n",
    "- h0 = tagihan laki laki ≤ tagihan perempuan \n",
    "- h1 = tagihan laki-laki > dari tagihan perempuan \n",
    "\n",
    "Mari kita uji hipotesis!"
   ]
  },
  {
   "cell_type": "code",
   "execution_count": 1,
   "id": "f93fbf36",
   "metadata": {},
   "outputs": [
    {
     "name": "stdout",
     "output_type": "stream",
     "text": [
      "ini adalah proporsi perempuan: 0.5046594023333884\n"
     ]
    }
   ],
   "source": [
    "total = 63770.42801 + 62592.87309\n",
    "total\n",
    "\n",
    "female = 63770.42801\n",
    "\n",
    "proporsi_perempuan = female/total\n",
    "print(f'ini adalah proporsi perempuan: {proporsi_perempuan}')"
   ]
  },
  {
   "cell_type": "code",
   "execution_count": 10,
   "id": "5749094e",
   "metadata": {},
   "outputs": [
    {
     "name": "stdout",
     "output_type": "stream",
     "text": [
      "Terima hipotesis nol\n"
     ]
    }
   ],
   "source": [
    "#Diketahui tagihan paling tinggi berada pada gender female yaitu sebesar 63770 daripada gender male. Lalu disini dinyatakan bahwa apakah tagihan kesehatan laki-laki lebih tinggi dari perempuan.\n",
    "\n",
    "#h0 = tagihan laki laki ≤ tagihan perempuan\n",
    "#h1 = tagihan laki-laki > dari tagihan perempuan\n",
    "\n",
    "n = 676 + 662\n",
    "\n",
    "# jumlah sampel\n",
    "n_a = 676\n",
    "n_b = 662\n",
    "\n",
    "# jumlah kejadian positif pada setiap kelompok\n",
    "p_a = 676/n\n",
    "p_b = 662/n\n",
    "\n",
    "# hitung proporsi dan selisih proporsi\n",
    "proporsi_a = p_a / n_a\n",
    "proporsi_b = p_b / n_b\n",
    "selisih_proporsi = proporsi_a - proporsi_b\n",
    "\n",
    "# hitung standar error\n",
    "SE = math.sqrt(proporsi_a*(1-proporsi_a)/n_a + proporsi_b*(1-proporsi_b)/n_b)\n",
    "\n",
    "# hitung z-score\n",
    "z = selisih_proporsi / SE\n",
    "\n",
    "# tentukan alpha dan hitung p-value\n",
    "alpha = 0.05\n",
    "p_value = 2 * (1 - norm.cdf(abs(z)))\n",
    "\n",
    "# tentukan keputusan berdasarkan p-value\n",
    "if p_value < alpha:\n",
    "    print(\"Tolak hipotesis nol\")\n",
    "else:\n",
    "    print(\"Terima hipotesis nol\")"
   ]
  },
  {
   "cell_type": "code",
   "execution_count": 43,
   "id": "28b585c6",
   "metadata": {},
   "outputs": [
    {
     "name": "stdout",
     "output_type": "stream",
     "text": [
      "Gagal untuk menolak null hypothesis\n"
     ]
    }
   ],
   "source": [
    "import math\n",
    "from scipy.stats import norm\n",
    "\n",
    "# Diketahui tagihan paling tinggi berada pada gender female yaitu sebesar 63770 daripada gender male. \n",
    "# Lalu disini dinyatakan bahwa proporsi tagihan kesehatan laki-laki lebih tinggi dari perempuan.\n",
    "\n",
    "# h0 = tagihan laki-laki > dari tagihan perempuan\n",
    "# h1 = tagihan laki laki ≤ tagihan perempuan \n",
    "\n",
    "# sample sizes\n",
    "n_male = 676\n",
    "n_female = 662\n",
    "n = n_male + n_female\n",
    "\n",
    "# sample proportions\n",
    "p_male = n_male / n\n",
    "p_female = n_female / n\n",
    "\n",
    "# difference in sample proportions\n",
    "diff_prop = p_male - p_female\n",
    "\n",
    "# standard error\n",
    "SE = math.sqrt((p_male*(1-p_male)/n_male) + (p_female*(1-p_female)/n_female))\n",
    "\n",
    "# z-score\n",
    "z = diff_prop / SE\n",
    "\n",
    "# p-value\n",
    "p_value = 1 - norm.cdf(z) #--> kalau p- value di sebelah kanan, tapi kalau di sebelah kiri gak perlu di 1 -\n",
    "\n",
    "# significance level\n",
    "alpha = 0.05\n",
    "\n",
    "# decision\n",
    "if p_value < alpha:\n",
    "    print(\"Reject null hypothesis\")\n",
    "else:\n",
    "    print(\"Gagal untuk menolak null hypothesis\")\n"
   ]
  },
  {
   "cell_type": "code",
   "execution_count": 82,
   "id": "51c284d6",
   "metadata": {},
   "outputs": [
    {
     "data": {
      "image/png": "[encoded data removed]",
      "text/plain": [
       "<Figure size 432x288 with 1 Axes>"
      ]
     },
     "metadata": {
      "needs_background": "light"
     },
     "output_type": "display_data"
    }
   ],
   "source": [
    "#kita buat visualisasi nya\n",
    "\n",
    "# plot bar chart\n",
    "labels = ['laki-laki', 'Perempuan']\n",
    "proportions = [p_male, p_female]\n",
    "x_pos = np.arange(len(labels))\n",
    "plt.bar(x_pos, proportions, align='center', alpha=0.5)\n",
    "plt.xticks(x_pos, labels)\n",
    "plt.ylabel('Proporsi')\n",
    "plt.title('Proporsi tagihan Laki-laki dan Perempuan')\n",
    "\n",
    "plt.show()"
   ]
  },
  {
   "cell_type": "markdown",
   "id": "2bef8f44",
   "metadata": {},
   "source": [
    "**Kesimpulan nya adalah:** bahwa tagihan laki-laki lebih tinggi dibanding tagihan perempuan walau selisih sedikit sehingga h0 di tolak namun tidak terlalu signicant. Butuh data yang lebih banyak lagi untuk di test. "
   ]
  },
  {
   "cell_type": "markdown",
   "id": "0b1a6734",
   "metadata": {},
   "source": [
    "2. **Menjawab Hipotesis b. Proposi perokok laki-laki lebih besar dari perempuan**"
   ]
  },
  {
   "cell_type": "markdown",
   "id": "7730310d",
   "metadata": {},
   "source": [
    "Untuk itu kita menggunakan konsep one single: proportion test."
   ]
  },
  {
   "cell_type": "markdown",
   "id": "7ad5a94b",
   "metadata": {},
   "source": [
    "* h0 (hipotesis-null) = Proporsi perokok laki-laki **tidak lebih besar** dari perokok perempuan.\n",
    "* h1 = Proporsi perokok laki-laki masih lebih besar dari perokok perempuan"
   ]
  },
  {
   "cell_type": "code",
   "execution_count": 5,
   "id": "1ea5c5de",
   "metadata": {},
   "outputs": [
    {
     "name": "stdout",
     "output_type": "stream",
     "text": [
      "Jawaban: Hipotesis nol tidak dapat ditolak\n"
     ]
    }
   ],
   "source": [
    "#jumlah sum dari orang yang merokok\n",
    "n = 274 \n",
    "\n",
    "#dua bagian perokok\n",
    "laki_perokok = 159\n",
    "perempuan_perokok = 115\n",
    "\n",
    "#Proporsi sample\n",
    "p_laki_rokok = laki_perokok/n \n",
    "p_perempuan_rokok = perempuan_perokok/n\n",
    "\n",
    "#hitung selisih proporsi antara laki-laki dan perempuan \n",
    "selisih = p_laki_rokok - p_perempuan_rokok\n",
    "\n",
    "#Hitung standar error (SE) dari selisih proporsi.\n",
    "SE = math.sqrt((p_laki_rokok*(1-p_laki_rokok))/laki_perokok + (p_perempuan_rokok*(1-p_perempuan_rokok))/perempuan_perokok)\n",
    "\n",
    "#Hitung nilai z-score dari selisih proporsi. 0 adalah nilai yang diharapkan (h0)\n",
    "z = (selisih - 0) / SE\n",
    "\n",
    "#memberikan asumsi peluang tolak h0 dalam zona critical\n",
    "p_0 = 0.58 # --> asumsi diberikan h0\n",
    "\n",
    "#hitung alpha-nya\n",
    "alpha = 0.05 # --> nilai signifikansi yang kita percaya secara default\n",
    "\n",
    "# menghitung z-score\n",
    "z = (p_laki_rokok - p_0) / math.sqrt((p_0 * (1 - p_0)) / n)\n",
    "\n",
    "#Hitung p-value. \n",
    "#Ini adalah probabilitas untuk mendapatkan selisih proporsi \n",
    "#Setidaknya sebesar nilai yang diobservasi (selisih) jika hipotesis nol benar.\n",
    "\n",
    "p_value = 2 * (1 - norm.cdf(abs(z)))\n",
    "#di mana norm.cdf() adalah fungsi kumulatif distribusi normal standar.\n",
    "\n",
    "#Tentukan keputusan berdasarkan p-value. Jika p-value lebih kecil dari alpha, \n",
    "#Maka hipotesis nol ditolak dan hipotesis alternatif diterima. \n",
    "#Jika tidak, maka tidak cukup bukti untuk menolak hipotesis nol.\n",
    "\n",
    "# melakukan pengujian hipotesis\n",
    "if p_value < alpha:\n",
    "    print(\"Jawaban: Hipotesis nol ditolak\")\n",
    "else:\n",
    "    print(\"Jawaban: Hipotesis nol tidak dapat ditolak\")"
   ]
  },
  {
   "cell_type": "markdown",
   "id": "57eea2d4",
   "metadata": {},
   "source": [
    "**Setelah itu kita buat visualisasinya**"
   ]
  },
  {
   "cell_type": "code",
   "execution_count": 51,
   "id": "7657c2f7",
   "metadata": {},
   "outputs": [
    {
     "data": {
      "image/png": "[encoded data removed]",
      "text/plain": [
       "<Figure size 432x288 with 1 Axes>"
      ]
     },
     "metadata": {
      "needs_background": "light"
     },
     "output_type": "display_data"
    }
   ],
   "source": [
    "import matplotlib.pyplot as plt\n",
    "import numpy as np\n",
    "\n",
    "\n",
    "# plot bar chart\n",
    "labels = ['Laki-laki', 'Perempuan']\n",
    "proportions = [p_laki_rokok, p_perempuan_rokok]\n",
    "x_pos = np.arange(len(labels))\n",
    "plt.bar(x_pos, proportions, align='center', alpha=0.5)\n",
    "plt.xticks(x_pos, labels)\n",
    "plt.ylabel('Proporsi')\n",
    "plt.title('Proporsi Perokok Laki-laki dan Perempuan')\n",
    "\n",
    "# add reference line for null hypothesis proportion\n",
    "p_0 = 0.58\n",
    "plt.axhline(y=p_0, color='r', linestyle='--')\n",
    "plt.text(0.5, p_0 + 0.05, 'H0', color='r', ha='center')\n",
    "\n",
    "plt.show()"
   ]
  },
  {
   "cell_type": "markdown",
   "id": "c58cefd7",
   "metadata": {},
   "source": [
    "Maka jawaban nya adalah: **h0 tidak dapat ditolak karena data tidak cukup bukti untuk membuat h0 menjadi rejected.**"
   ]
  },
  {
   "cell_type": "markdown",
   "id": "0fffad66",
   "metadata": {},
   "source": [
    "3. **Menjawab Variansi Tagihan kesehatan perokok dan non-perokok sama.**\n"
   ]
  },
  {
   "cell_type": "code",
   "execution_count": 52,
   "id": "ea45d97f",
   "metadata": {},
   "outputs": [],
   "source": [
    "#mencari tagihan perokok dan membentuk array\n",
    "\n",
    "tagihan_perokok = insurance[insurance[\"smoker\"] == \"yes\"][[\"charges\"]]\n",
    "arr_tag_perokok = tagihan_perokok.values"
   ]
  },
  {
   "cell_type": "code",
   "execution_count": 53,
   "id": "680ff87b",
   "metadata": {},
   "outputs": [],
   "source": [
    "#mencari tagihan non-perokok\n",
    "tagihan_non_perokok = insurance[insurance[\"smoker\"] == \"no\"][[\"charges\"]]\n",
    "arr_tag_non_perokok = tagihan_non_perokok.values"
   ]
  },
  {
   "cell_type": "code",
   "execution_count": 3,
   "id": "ccfbcbb9",
   "metadata": {},
   "outputs": [
    {
     "ename": "NameError",
     "evalue": "name 'arr_tag_perokok' is not defined",
     "output_type": "error",
     "traceback": [
      "\u001b[0;31m---------------------------------------------------------------------------\u001b[0m",
      "\u001b[0;31mNameError\u001b[0m                                 Traceback (most recent call last)",
      "Input \u001b[0;32mIn [3]\u001b[0m, in \u001b[0;36m<cell line: 1>\u001b[0;34m()\u001b[0m\n\u001b[0;32m----> 1\u001b[0m sample_a \u001b[38;5;241m=\u001b[39m \u001b[43marr_tag_perokok\u001b[49m\n\u001b[1;32m      2\u001b[0m sample_b \u001b[38;5;241m=\u001b[39m arr_tag_non_perokok\n\u001b[1;32m      4\u001b[0m \u001b[38;5;66;03m#menentukan signifikansi\u001b[39;00m\n",
      "\u001b[0;31mNameError\u001b[0m: name 'arr_tag_perokok' is not defined"
     ]
    }
   ],
   "source": [
    "sample_a = arr_tag_perokok\n",
    "sample_b = arr_tag_non_perokok\n",
    "\n",
    "#menentukan signifikansi\n",
    "alpha = 0.05\n",
    "\n",
    "#jumlah sample\n",
    "n_a = len(sample_a)\n",
    "n_b = len(sample_b)\n",
    "\n",
    "#nilai tengah sample\n",
    "mean_a = np.mean(sample_a)\n",
    "mean_b = np.mean(sample_b)\n",
    "\n",
    "#hitung variance dari nilai sample\n",
    "var_a = np.var(sample_a, ddof=1)\n",
    "var_b = np.var(sample_b, ddof=1)\n",
    "\n",
    "#Secara default, NumPy mengasumsikan ddof=0, \n",
    "#yang berarti bahwa perhitungan standar deviasi didasarkan pada jumlah sampel populasi yang lengkap, \n",
    "#sehingga pembaginya adalah N (jumlah total sampel). source: ChatGPT\n",
    "\n",
    "#menghitung uji statistik variance\n",
    "f = var_a / var_b\n",
    "\n",
    "#Hitung nilai kritis menggunakan distribusi F dengan derajat kebebasan \n",
    "#n-1 untuk kedua sampel, \n",
    "#dimana n adalah jumlah data masing-masing sampel:\n",
    "    \n",
    "df_a = n_a - 1\n",
    "df_b = n_b - 1\n",
    "\n",
    "#rumus critical value\n",
    "chi2_crit = stats.chi2.ppf(0.05, n-1)\n",
    "\n",
    "\n",
    "#tentukan kesimpulan\n",
    "if f > critical_value:\n",
    "    print(\"Hipotesis nol ditolak, varian sample_a lebih besar daripada varian sample_b\")\n",
    "else:\n",
    "    print(\"Tidak cukup bukti untuk menolak hipotesis nol\")"
   ]
  },
  {
   "cell_type": "code",
   "execution_count": 57,
   "id": "a1835524",
   "metadata": {},
   "outputs": [
    {
     "ename": "TypeError",
     "evalue": "chisquare() got an unexpected keyword argument 'df'",
     "output_type": "error",
     "traceback": [
      "\u001b[0;31m---------------------------------------------------------------------------\u001b[0m",
      "\u001b[0;31mTypeError\u001b[0m                                 Traceback (most recent call last)",
      "Input \u001b[0;32mIn [57]\u001b[0m, in \u001b[0;36m<cell line: 26>\u001b[0;34m()\u001b[0m\n\u001b[1;32m     23\u001b[0m chi_squared \u001b[38;5;241m=\u001b[39m ((n \u001b[38;5;241m-\u001b[39m \u001b[38;5;241m2\u001b[39m) \u001b[38;5;241m*\u001b[39m (var_perokok \u001b[38;5;241m+\u001b[39m var_non_perokok)) \u001b[38;5;241m/\u001b[39m (\u001b[38;5;241m2\u001b[39m \u001b[38;5;241m*\u001b[39m sigma\u001b[38;5;241m*\u001b[39m\u001b[38;5;241m*\u001b[39m\u001b[38;5;241m2\u001b[39m)\n\u001b[1;32m     25\u001b[0m \u001b[38;5;66;03m# Hitung nilai p\u001b[39;00m\n\u001b[0;32m---> 26\u001b[0m p_value \u001b[38;5;241m=\u001b[39m \u001b[38;5;241m1\u001b[39m \u001b[38;5;241m-\u001b[39m \u001b[43mchisquare\u001b[49m\u001b[43m(\u001b[49m\u001b[43m[\u001b[49m\u001b[43mchi_squared\u001b[49m\u001b[43m]\u001b[49m\u001b[43m,\u001b[49m\u001b[43m \u001b[49m\u001b[43mdf\u001b[49m\u001b[38;5;241;43m=\u001b[39;49m\u001b[38;5;241;43m1\u001b[39;49m\u001b[43m)\u001b[49m[\u001b[38;5;241m1\u001b[39m]\n\u001b[1;32m     28\u001b[0m \u001b[38;5;66;03m# Cetak nilai p\u001b[39;00m\n\u001b[1;32m     29\u001b[0m \u001b[38;5;28mprint\u001b[39m(\u001b[38;5;124m\"\u001b[39m\u001b[38;5;124mNilai p:\u001b[39m\u001b[38;5;124m\"\u001b[39m, p_value)\n",
      "\u001b[0;31mTypeError\u001b[0m: chisquare() got an unexpected keyword argument 'df'"
     ]
    }
   ],
   "source": [
    "import numpy as np\n",
    "from scipy.stats import chisquare\n",
    "\n",
    "# Data sampel\n",
    "perokok = arr_tag_perokok\n",
    "non_perokok = arr_tag_non_perokok\n",
    "\n",
    "# Nilai rata-rata\n",
    "mean_perokok = np.mean(perokok)\n",
    "mean_non_perokok = np.mean(non_perokok)\n",
    "\n",
    "# Nilai variansi\n",
    "var_perokok = np.var(perokok, ddof=1)\n",
    "var_non_perokok = np.var(non_perokok, ddof=1)\n",
    "\n",
    "# Nilai sigma\n",
    "sigma = 1\n",
    "\n",
    "# Jumlah sampel\n",
    "n = len(perokok) + len(non_perokok)\n",
    "\n",
    "# Hitung nilai uji chi-square\n",
    "chi_squared = ((n - 2) * (var_perokok + var_non_perokok)) / (2 * sigma**2)\n",
    "\n",
    "# Hitung nilai p\n",
    "p_value = 1 - chisquare([chi_squared], df=1)[1]\n",
    "\n",
    "# Cetak nilai p\n",
    "print(\"Nilai p:\", p_value)\n",
    "\n",
    "# Uji hipotesis\n",
    "alpha = 0.05\n",
    "if p_value < alpha:\n",
    "    print(\"Hipotesis nol ditolak\")\n",
    "else:\n",
    "    print(\"Hipotesis nol diterima\")"
   ]
  }
 ],
 "metadata": {
  "kernelspec": {
   "display_name": "Python 3 (ipykernel)",
   "language": "python",
   "name": "python3"
  },
  "language_info": {
   "codemirror_mode": {
    "name": "ipython",
    "version": 3
   },
   "file_extension": ".py",
   "mimetype": "text/x-python",
   "name": "python",
   "nbconvert_exporter": "python",
   "pygments_lexer": "ipython3",
   "version": "3.9.12"
  }
 },
 "nbformat": 4,
 "nbformat_minor": 5
}
